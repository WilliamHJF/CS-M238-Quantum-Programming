{
 "cells": [
  {
   "cell_type": "code",
   "execution_count": 1,
   "metadata": {},
   "outputs": [],
   "source": [
    "import random as rd"
   ]
  },
  {
   "cell_type": "code",
   "execution_count": 2,
   "metadata": {},
   "outputs": [],
   "source": [
    "def simon(func, n):\n",
    "    #Caculate the number of possible inputs which is the number of the funciton will be called\n",
    "    times = pow(2, n)\n",
    "    output = {}\n",
    "    s = '0' * n\n",
    "    \n",
    "    #Run the sample function with all the possible bitString as input\n",
    "    for i in range(times):\n",
    "        #While loop until all the possible inputs have been checked\n",
    "        while(len(output) != times):\n",
    "            \n",
    "            #Generate a random binary bits string with size n\n",
    "            random = \"\"\n",
    "            for j in range(n):\n",
    "                bit = str(rd.randint(0, 1))\n",
    "                random += bit\n",
    "            \n",
    "            #Checking if the bits string is already checked\n",
    "            if(random not in output.keys()):\n",
    "                #If it is not checked, run the input function with this new bit string as a new input\n",
    "                value = func(random)\n",
    "                #Check if the value is in the dictionary\n",
    "                if value in output.values():\n",
    "                    key = [k for k, v in output.items() if v == value][0]\n",
    "                    pw = pointwise(key, random)\n",
    "                    if s < pw:\n",
    "                        s = pw\n",
    "                #Add the bit string as a key and the output of the function as value into dictionary\n",
    "                output[random] = value\n",
    "                \n",
    "    print(output)\n",
    "    \n",
    "    return s"
   ]
  },
  {
   "cell_type": "code",
   "execution_count": 3,
   "metadata": {},
   "outputs": [
    {
     "data": {
      "text/plain": [
       "'001'"
      ]
     },
     "execution_count": 3,
     "metadata": {},
     "output_type": "execute_result"
    }
   ],
   "source": [
    "def pointwise(s1, s2):\n",
    "    list1 = list(s1) # Store every bit in a list\n",
    "    list2 = list(s2)\n",
    "    output = []\n",
    "    \n",
    "    for i in range(len(s1)):\n",
    "        total = int(list1[i]) + int(list2[i])\n",
    "        total = total % 2\n",
    "        output.append(str(total))\n",
    "    \n",
    "    output = ''.join(output)\n",
    "    return output\n",
    "\n",
    "#Test\n",
    "pointwise('110', '111')"
   ]
  },
  {
   "cell_type": "code",
   "execution_count": 4,
   "metadata": {},
   "outputs": [
    {
     "name": "stdout",
     "output_type": "stream",
     "text": [
      "111\n"
     ]
    }
   ],
   "source": [
    "# A sample function that inputs a bit strings of length n and outputs a bit strings of length n\n",
    "def sample(bitString):\n",
    "    bitList = list(bitString) # Store every bit in a list\n",
    "    bitList[0] = '1' #Change the last bit to 0\n",
    "    bitString = ''.join(bitList) #Convert the bitList back to a string\n",
    "    return bitString\n",
    "\n",
    "#Test\n",
    "test = '011'\n",
    "print(sample(test))"
   ]
  },
  {
   "cell_type": "code",
   "execution_count": 5,
   "metadata": {},
   "outputs": [
    {
     "name": "stdout",
     "output_type": "stream",
     "text": [
      "{'111': '111', '001': '101', '101': '101', '010': '110', '100': '100', '000': '100', '110': '110', '011': '111'}\n"
     ]
    },
    {
     "data": {
      "text/plain": [
       "'100'"
      ]
     },
     "execution_count": 5,
     "metadata": {},
     "output_type": "execute_result"
    }
   ],
   "source": [
    "simon(sample, 3)"
   ]
  },
  {
   "cell_type": "code",
   "execution_count": 9,
   "metadata": {},
   "outputs": [
    {
     "data": {
      "text/plain": [
       "[(0, '000'),\n",
       " (1, '001'),\n",
       " (2, '010'),\n",
       " (3, '011'),\n",
       " (4, '100'),\n",
       " (5, '101'),\n",
       " (6, '110'),\n",
       " (7, '111')]"
      ]
     },
     "execution_count": 9,
     "metadata": {},
     "output_type": "execute_result"
    }
   ],
   "source": [
    "equations = []\n",
    "\n",
    "# Generate equations based on the function f\n",
    "for x in range(2 ** 3):\n",
    "    result = bin(x)[2:].zfill(3)\n",
    "    equations.append((x, result))\n",
    "\n",
    "equations"
   ]
  },
  {
   "cell_type": "code",
   "execution_count": null,
   "metadata": {},
   "outputs": [],
   "source": []
  }
 ],
 "metadata": {
  "kernelspec": {
   "display_name": "Python 3",
   "language": "python",
   "name": "python3"
  },
  "language_info": {
   "codemirror_mode": {
    "name": "ipython",
    "version": 3
   },
   "file_extension": ".py",
   "mimetype": "text/x-python",
   "name": "python",
   "nbconvert_exporter": "python",
   "pygments_lexer": "ipython3",
   "version": "3.8.5"
  }
 },
 "nbformat": 4,
 "nbformat_minor": 4
}
