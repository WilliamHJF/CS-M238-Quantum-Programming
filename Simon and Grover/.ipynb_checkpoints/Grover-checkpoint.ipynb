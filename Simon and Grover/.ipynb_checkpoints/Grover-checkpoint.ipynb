{
 "cells": [
  {
   "cell_type": "code",
   "execution_count": 1,
   "metadata": {},
   "outputs": [],
   "source": [
    "import random as rd"
   ]
  },
  {
   "cell_type": "code",
   "execution_count": 2,
   "metadata": {},
   "outputs": [],
   "source": [
    "def grover(func, n):\n",
    "    #Caculate the number of possible inputs which is the number of the funciton will be called\n",
    "    times = pow(2, n)\n",
    "    bitString = []\n",
    "    \n",
    "    #Run the sample function with all the possible bitString as input\n",
    "    for i in range(times):\n",
    "        #While loop until all the possible inputs have been checked\n",
    "        while(len(bitString) != times):\n",
    "            \n",
    "            #Generate a random binary bits string with size n\n",
    "            random = \"\"\n",
    "            for j in range(n):\n",
    "                bit = str(rd.randint(0, 1))\n",
    "                random += bit\n",
    "            \n",
    "            #Checking if the bits string is already checked\n",
    "            #If it is not checked, add the new bit string into bitString array\n",
    "            #and run the input function with the new bit string as a new input\n",
    "            if(random not in bitString):\n",
    "                bitString.append(random)\n",
    "                if(func(random)):\n",
    "                   return 1\n",
    "\n",
    "    print(bitString)    \n",
    "    return 0"
   ]
  },
  {
   "cell_type": "code",
   "execution_count": 3,
   "metadata": {},
   "outputs": [],
   "source": [
    "def allZero(s):\n",
    "    return 0\n",
    "\n",
    "def allOne(s):\n",
    "    return 1"
   ]
  },
  {
   "cell_type": "code",
   "execution_count": 4,
   "metadata": {},
   "outputs": [
    {
     "name": "stdout",
     "output_type": "stream",
     "text": [
      "['111', '001', '110', '010', '101', '011', '100', '000']\n"
     ]
    },
    {
     "data": {
      "text/plain": [
       "0"
      ]
     },
     "execution_count": 4,
     "metadata": {},
     "output_type": "execute_result"
    }
   ],
   "source": [
    "grover(allZero, 3)"
   ]
  },
  {
   "cell_type": "code",
   "execution_count": 5,
   "metadata": {},
   "outputs": [
    {
     "data": {
      "text/plain": [
       "1"
      ]
     },
     "execution_count": 5,
     "metadata": {},
     "output_type": "execute_result"
    }
   ],
   "source": [
    "grover(allOne, 3)"
   ]
  }
 ],
 "metadata": {
  "kernelspec": {
   "display_name": "Python 3",
   "language": "python",
   "name": "python3"
  },
  "language_info": {
   "codemirror_mode": {
    "name": "ipython",
    "version": 3
   },
   "file_extension": ".py",
   "mimetype": "text/x-python",
   "name": "python",
   "nbconvert_exporter": "python",
   "pygments_lexer": "ipython3",
   "version": "3.8.5"
  }
 },
 "nbformat": 4,
 "nbformat_minor": 4
}
