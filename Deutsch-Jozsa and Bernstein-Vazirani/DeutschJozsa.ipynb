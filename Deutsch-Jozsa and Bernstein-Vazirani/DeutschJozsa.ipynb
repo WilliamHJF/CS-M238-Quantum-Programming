{
 "cells": [
  {
   "cell_type": "code",
   "execution_count": 1,
   "metadata": {},
   "outputs": [],
   "source": [
    "import random as rd"
   ]
  },
  {
   "cell_type": "code",
   "execution_count": 2,
   "metadata": {},
   "outputs": [],
   "source": [
    "def deutschJozsa(func, n):\n",
    "    #Caculate the number of possible inputs which is the number of the funciton will be called\n",
    "    times = pow(2, n)\n",
    "    bitString = []\n",
    "    \n",
    "    #Count how many 1s the function outputs\n",
    "    count = 0\n",
    "    for j in range(times):\n",
    "        #While loop until all the possible inputs have been checked\n",
    "        while(len(bitString) != times):\n",
    "            \n",
    "            #Generate a random binary bits strings with size n\n",
    "            s = \"\"\n",
    "            for i in range(n):\n",
    "                bit = str(rd.randint(0, 1))\n",
    "                s += bit\n",
    "            \n",
    "            #Checking if the bits string is already checked\n",
    "            #If it is not checked, add the new bit string into bitString array\n",
    "            #and run the input function with the new bit string as a new input\n",
    "            if(s not in bitString):\n",
    "                bitString.append(s)\n",
    "                if func(s) == 1:\n",
    "                    count += 1\n",
    "    \n",
    "    print(\"The function outputs 1 on\", count, \"out of\", times, \"times\")\n",
    "    #Check if f is constant or balanced\n",
    "    if count == 0 or count == times:\n",
    "        #f is constant if either f always outputs 0 or f always outputs 1\n",
    "        #It means the count value should be 0 or the number of times that the function is called\n",
    "        return 0\n",
    "    else:\n",
    "        #f is balanced if f outputs 0 on exactly half of the inputs\n",
    "        return 1"
   ]
  },
  {
   "cell_type": "code",
   "execution_count": 3,
   "metadata": {},
   "outputs": [],
   "source": [
    "def allZero(s):\n",
    "    return 0\n",
    "\n",
    "def allOne(s):\n",
    "    return 1\n",
    "\n",
    "def halfZero(s):\n",
    "    #Count how many 1s the input string has\n",
    "    count = 0\n",
    "    for i in s:\n",
    "        if i == '1':\n",
    "            count += 1\n",
    "    \n",
    "    #If the number of 1s is even, return 0\n",
    "    if count % 2 == 0:\n",
    "        return 0\n",
    "    else:\n",
    "        return 1"
   ]
  },
  {
   "cell_type": "code",
   "execution_count": 4,
   "metadata": {},
   "outputs": [
    {
     "name": "stdout",
     "output_type": "stream",
     "text": [
      "The function outputs 1 on 0 out of 8 times\n",
      "The function allZero is constant\n"
     ]
    }
   ],
   "source": [
    "output1 = deutschJozsa(allZero, 3)\n",
    "if output1 == 0:\n",
    "    print(\"The function allZero is constant\")\n",
    "else:\n",
    "    print(\"The function allZero is balanced\")"
   ]
  },
  {
   "cell_type": "code",
   "execution_count": 5,
   "metadata": {},
   "outputs": [
    {
     "name": "stdout",
     "output_type": "stream",
     "text": [
      "The function outputs 1 on 8 out of 8 times\n",
      "The function allOne is constant\n"
     ]
    }
   ],
   "source": [
    "output2 = deutschJozsa(allOne, 3)\n",
    "if output2 == 0:\n",
    "    print(\"The function allOne is constant\")\n",
    "else:\n",
    "    print(\"The function allOne is balanced\")"
   ]
  },
  {
   "cell_type": "code",
   "execution_count": 6,
   "metadata": {},
   "outputs": [
    {
     "name": "stdout",
     "output_type": "stream",
     "text": [
      "The function outputs 1 on 4 out of 8 times\n",
      "The function halfZero is balanced\n"
     ]
    }
   ],
   "source": [
    "output3 = deutschJozsa(halfZero, 3)\n",
    "if output3 == 0:\n",
    "    print(\"The function halfZero is constant\")\n",
    "else:\n",
    "    print(\"The function halfZero is balanced\")"
   ]
  },
  {
   "cell_type": "code",
   "execution_count": null,
   "metadata": {},
   "outputs": [],
   "source": []
  }
 ],
 "metadata": {
  "kernelspec": {
   "display_name": "Python 3",
   "language": "python",
   "name": "python3"
  },
  "language_info": {
   "codemirror_mode": {
    "name": "ipython",
    "version": 3
   },
   "file_extension": ".py",
   "mimetype": "text/x-python",
   "name": "python",
   "nbconvert_exporter": "python",
   "pygments_lexer": "ipython3",
   "version": "3.8.5"
  }
 },
 "nbformat": 4,
 "nbformat_minor": 4
}
