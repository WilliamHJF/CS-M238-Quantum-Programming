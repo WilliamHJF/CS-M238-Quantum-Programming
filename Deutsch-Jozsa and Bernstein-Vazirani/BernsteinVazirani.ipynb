{
 "cells": [
  {
   "cell_type": "code",
   "execution_count": 1,
   "metadata": {},
   "outputs": [],
   "source": [
    "import random as rd"
   ]
  },
  {
   "cell_type": "code",
   "execution_count": 2,
   "metadata": {},
   "outputs": [],
   "source": [
    "def bernsteinVazirani(func, n):\n",
    "    #Inititalize a and b \n",
    "    a = [0] * n\n",
    "    b = 0\n",
    "    \n",
    "    #Run a function with an all zero bit string to get the value of b\n",
    "    #since the inner product mod 2 of a and all zero bit string is 0\n",
    "    #so it makes f(x) = b\n",
    "    b = func([0] * n) % 2\n",
    "\n",
    "    #Do n calls to determine a, one call for each bit of a.\n",
    "    for i in range(n):\n",
    "        #Generate a bit string x with size n and set the bit i as 1\n",
    "        #so that we can find the bit i of the bit string a by calculating\n",
    "        #the inner product mod 2 of x with the input function\n",
    "        x = [0] * n\n",
    "        x[i] = 1\n",
    "        \n",
    "        #Calculate the inner product mod 2 of the x with the input function\n",
    "        #and the addition mod 2 with b\n",
    "        a_bit = func(x)\n",
    "        a_bit %= 2\n",
    "        a_bit += b\n",
    "        a_bit %= 2\n",
    "        \n",
    "        # Update the i bit of a\n",
    "        a[i] = a_bit\n",
    "\n",
    "    return a, b"
   ]
  },
  {
   "cell_type": "code",
   "execution_count": 3,
   "metadata": {},
   "outputs": [],
   "source": [
    "def assumedFunc(x):\n",
    "    a = [0, 1, 0, 1]\n",
    "    b = 1\n",
    "\n",
    "    #Caculate the inner product mod 2 of a and x\n",
    "    output = 0\n",
    "    for i in range(len(a)):\n",
    "        output += (x[i] * a[i])\n",
    "    output %= 2\n",
    "    \n",
    "    #Addtion mod 2\n",
    "    output += b\n",
    "    output %= 2\n",
    "    \n",
    "    return output"
   ]
  },
  {
   "cell_type": "code",
   "execution_count": 5,
   "metadata": {},
   "outputs": [
    {
     "name": "stdout",
     "output_type": "stream",
     "text": [
      "The unknown bit string a of length n is [0, 1, 0, 1]\n",
      "The unknown single bit b is 1\n"
     ]
    }
   ],
   "source": [
    "n = 4\n",
    "a, b = bernsteinVazirani(assumedFunc, n)\n",
    "print(\"The unknown bit string a of length n is\", a)\n",
    "print(\"The unknown single bit b is\", b)"
   ]
  },
  {
   "cell_type": "code",
   "execution_count": null,
   "metadata": {},
   "outputs": [],
   "source": []
  }
 ],
 "metadata": {
  "kernelspec": {
   "display_name": "Python 3",
   "language": "python",
   "name": "python3"
  },
  "language_info": {
   "codemirror_mode": {
    "name": "ipython",
    "version": 3
   },
   "file_extension": ".py",
   "mimetype": "text/x-python",
   "name": "python",
   "nbconvert_exporter": "python",
   "pygments_lexer": "ipython3",
   "version": "3.8.5"
  }
 },
 "nbformat": 4,
 "nbformat_minor": 4
}
