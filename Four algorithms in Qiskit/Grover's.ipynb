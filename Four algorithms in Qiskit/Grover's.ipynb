{
 "cells": [
  {
   "cell_type": "code",
   "execution_count": 1,
   "metadata": {},
   "outputs": [],
   "source": [
    "from qiskit import *\n",
    "from qiskit.visualization import plot_histogram\n",
    "import numpy as np\n",
    "import time\n",
    "import random as rd\n",
    "import math"
   ]
  },
  {
   "cell_type": "markdown",
   "metadata": {},
   "source": [
    "## Step 1: Set the number of qubits and generate a random 'x'"
   ]
  },
  {
   "cell_type": "code",
   "execution_count": 2,
   "metadata": {},
   "outputs": [],
   "source": [
    "# Set n as the length of the input bit string\n",
    "n = 3\n",
    "\n",
    "# Generate a random binary bits strings with size n as x\n",
    "x = \"\"\n",
    "for i in range(n):\n",
    "    bit = str(rd.randint(0, 1))\n",
    "    x += bit\n",
    "    \n",
    "# OR set the x manually\n",
    "x = \"011\""
   ]
  },
  {
   "cell_type": "markdown",
   "metadata": {},
   "source": [
    "## Step 2: Implement Grover's Circuit\n",
    "### a. Define the grover function which will generate the Grover's Circuit"
   ]
  },
  {
   "cell_type": "code",
   "execution_count": 3,
   "metadata": {},
   "outputs": [],
   "source": [
    "def grover(oracle, n):\n",
    "    # Circuit has n main qubits and 1 helper qubit, and we measure n main qubits\n",
    "    qc = QuantumCircuit(n+1, n)\n",
    "    \n",
    "    # Gate operations\n",
    "    # Add H gate to every main qubits (0, 1, ... n)\n",
    "    for i in range(n):\n",
    "        qc.h(i)\n",
    "    \n",
    "    # barrier between input state and Uf operation\n",
    "    qc.barrier()\n",
    "    \n",
    "    # Calculate the number of time applying G\n",
    "    k = round(math.pi/4 * math.sqrt(pow(2, n)) - 1/2)\n",
    "    \n",
    "    for i in range(k):\n",
    "        # Add G operation to the current circuit\n",
    "        qc.append(oracle, range(n+1))\n",
    "    \n",
    "    # barrier between G operation and measurement\n",
    "    qc.barrier()\n",
    "        \n",
    "    # Measure n main qubits\n",
    "    for i in range(n):\n",
    "        qc.measure(i, i)\n",
    "    \n",
    "    return qc"
   ]
  },
  {
   "cell_type": "markdown",
   "metadata": {},
   "source": [
    "### b. Generate the gates in Uf opertion for Grover's algorithm"
   ]
  },
  {
   "cell_type": "code",
   "execution_count": 4,
   "metadata": {},
   "outputs": [],
   "source": [
    "from qiskit.circuit.library.standard_gates import XGate"
   ]
  },
  {
   "cell_type": "code",
   "execution_count": 5,
   "metadata": {},
   "outputs": [],
   "source": [
    "def grover_oracle(x, n):\n",
    "    grover_oracle_circuit = QuantumCircuit(n+1)\n",
    "     \n",
    "    # Create a multi-controlled-X gate and apply it to a circuit and control state expressed as x\n",
    "    zf = XGate().control(num_ctrl_qubits=n, ctrl_state=x)\n",
    "    # Apply the zf gate\n",
    "    grover_oracle_circuit.append(zf, range(n+1))\n",
    "    \n",
    "    # Apply z gate to the helper qubit\n",
    "    grover_oracle_circuit.z(n)\n",
    "    \n",
    "    # Apply the zf gate \n",
    "    grover_oracle_circuit.append(zf, range(n+1))\n",
    "    \n",
    "    # Add H gate to every main qubits (0, 1, ... n-1)\n",
    "    for i in range(n):\n",
    "        grover_oracle_circuit.h(i)\n",
    "    \n",
    "    # Create a multi-controlled-X gate and apply it to a circuit and control state expressed as all-zero bit string\n",
    "    z0 = XGate().control(num_ctrl_qubits=n, ctrl_state='0'*n)\n",
    "    # Apply the z0 gate\n",
    "    grover_oracle_circuit.append(z0, range(n+1))\n",
    "    \n",
    "    # Apply z gate to the helper qubit\n",
    "    grover_oracle_circuit.z(n)\n",
    "    \n",
    "    # Apply the z0 gate \n",
    "    grover_oracle_circuit.append(z0, range(n+1))\n",
    "    \n",
    "    # Add H gate to every main qubits (0, 1, ... n-1) again\n",
    "    for i in range(n):\n",
    "        grover_oracle_circuit.h(i)\n",
    "    \n",
    "    return grover_oracle_circuit"
   ]
  },
  {
   "cell_type": "markdown",
   "metadata": {},
   "source": [
    "### c. Display the entire Grover's circuit"
   ]
  },
  {
   "cell_type": "code",
   "execution_count": 6,
   "metadata": {},
   "outputs": [
    {
     "name": "stdout",
     "output_type": "stream",
     "text": [
      "G in the circuit of Grover's algorithm (x = 011): \n",
      "                    ┌───┐               ┌───┐\n",
      "q_0: ──■─────────■──┤ H ├──o─────────o──┤ H ├\n",
      "       │         │  ├───┤  │         │  ├───┤\n",
      "q_1: ──■─────────■──┤ H ├──o─────────o──┤ H ├\n",
      "       │         │  ├───┤  │         │  ├───┤\n",
      "q_2: ──o─────────o──┤ H ├──o─────────o──┤ H ├\n",
      "     ┌─┴─┐┌───┐┌─┴─┐└───┘┌─┴─┐┌───┐┌─┴─┐└───┘\n",
      "q_3: ┤ X ├┤ Z ├┤ X ├─────┤ X ├┤ Z ├┤ X ├─────\n",
      "     └───┘└───┘└───┘     └───┘└───┘└───┘     \n",
      "Circuit of Grover's algorithm: \n",
      "     ┌───┐ ░ ┌──────────────┐┌──────────────┐ ░ ┌─┐      \n",
      "q_0: ┤ H ├─░─┤0             ├┤0             ├─░─┤M├──────\n",
      "     ├───┤ ░ │              ││              │ ░ └╥┘┌─┐   \n",
      "q_1: ┤ H ├─░─┤1             ├┤1             ├─░──╫─┤M├───\n",
      "     ├───┤ ░ │  circuit-152 ││  circuit-152 │ ░  ║ └╥┘┌─┐\n",
      "q_2: ┤ H ├─░─┤2             ├┤2             ├─░──╫──╫─┤M├\n",
      "     └───┘ ░ │              ││              │ ░  ║  ║ └╥┘\n",
      "q_3: ──────░─┤3             ├┤3             ├─░──╫──╫──╫─\n",
      "           ░ └──────────────┘└──────────────┘ ░  ║  ║  ║ \n",
      "c: 3/════════════════════════════════════════════╩══╩══╩═\n",
      "                                                 0  1  2 \n"
     ]
    }
   ],
   "source": [
    "# Generate the Grover's circuit and print out the circuit\n",
    "grover_oracle_circuit = grover_oracle(x, n)\n",
    "grover_oracle_gates = grover_oracle_circuit.to_gate()\n",
    "grover_qc = grover(grover_oracle_gates, n)\n",
    "\n",
    "print(f\"G in the circuit of Grover's algorithm (x = {x}): \")\n",
    "print(grover_oracle_circuit.draw())\n",
    "print(\"Circuit of Grover's algorithm: \")\n",
    "print(grover_qc.draw())"
   ]
  },
  {
   "cell_type": "markdown",
   "metadata": {},
   "source": [
    "## Step 3: Run the program on a simulator\n",
    "### a. Use the simulator without noise (Local Simulator)"
   ]
  },
  {
   "cell_type": "code",
   "execution_count": 7,
   "metadata": {},
   "outputs": [],
   "source": [
    "# Simulator without noise (Local Simulator)\n",
    "# We'll run the program on a simulator\n",
    "backend = Aer.get_backend('aer_simulator')"
   ]
  },
  {
   "cell_type": "code",
   "execution_count": 8,
   "metadata": {},
   "outputs": [
    {
     "name": "stdout",
     "output_type": "stream",
     "text": [
      "{'110': 64, '100': 61, '001': 67, '000': 71, '010': 61, '101': 66, '111': 67, '011': 7735}\n",
      "Execution time:  0.09535908699035645\n"
     ]
    },
    {
     "data": {
      "image/png": "[encoded data removed]",
      "text/plain": [
       "<Figure size 504x360 with 1 Axes>"
      ]
     },
     "execution_count": 8,
     "metadata": {},
     "output_type": "execute_result"
    }
   ],
   "source": [
    "# Record start time\n",
    "start = time.time()\n",
    "\n",
    "grover_qc_trans = transpile(grover_qc, backend)\n",
    "grover_qc_job = backend.run(grover_qc_trans, shots=8192)\n",
    "grover_qc_output = grover_qc_job.result().get_counts()\n",
    "\n",
    "# Record end time\n",
    "end = time.time()\n",
    "grover_qc_execute = end - start\n",
    "\n",
    "print(grover_qc_output)\n",
    "print(\"Execution time: \", grover_qc_execute)\n",
    "plot_histogram(grover_qc_output)"
   ]
  },
  {
   "cell_type": "code",
   "execution_count": 9,
   "metadata": {},
   "outputs": [
    {
     "name": "stdout",
     "output_type": "stream",
     "text": [
      "The probability of measuring 011 in the noisy simulator is 94.42138671875 %\n"
     ]
    }
   ],
   "source": [
    "# Check the probability of measuring 'x' in the noisy simulator\n",
    "if x in grover_qc_output:\n",
    "    prob = (grover_qc_output[x] / 8192.0) * 100\n",
    "else:\n",
    "    prob = 0.0\n",
    "    \n",
    "print(f\"The probability of measuring {x} in the noisy simulator is\", prob, \"%\")"
   ]
  },
  {
   "cell_type": "markdown",
   "metadata": {},
   "source": [
    "### b. Use on a simulator with noise (Fake Provider Backends)"
   ]
  },
  {
   "cell_type": "code",
   "execution_count": 10,
   "metadata": {},
   "outputs": [],
   "source": [
    "# Simulator with noise （Fake Simulator)\n",
    "from qiskit_aer import AerSimulator\n",
    "from qiskit.providers.fake_provider import FakeVigo\n",
    "provider = FakeVigo()\n",
    "backend_noise = AerSimulator.from_backend(provider)"
   ]
  },
  {
   "cell_type": "code",
   "execution_count": 11,
   "metadata": {},
   "outputs": [
    {
     "name": "stdout",
     "output_type": "stream",
     "text": [
      "{'101': 798, '100': 820, '001': 923, '110': 901, '010': 1021, '000': 841, '011': 1793, '111': 1095}\n",
      "Execution time:  0.19389677047729492\n"
     ]
    },
    {
     "data": {
      "image/png": "[encoded data removed]",
      "text/plain": [
       "<Figure size 504x360 with 1 Axes>"
      ]
     },
     "execution_count": 11,
     "metadata": {},
     "output_type": "execute_result"
    }
   ],
   "source": [
    "# Run the program on a noisy simulator\n",
    "# Record start time\n",
    "start = time.time()\n",
    "\n",
    "grover_qc_trans_noise = transpile(grover_qc, backend_noise)\n",
    "grover_qc_job_noise = backend_noise.run(grover_qc_trans_noise, shots=8192)\n",
    "grover_qc_output_noise = grover_qc_job_noise.result().get_counts()\n",
    "\n",
    "# Record end time\n",
    "end = time.time()\n",
    "grover_qc_execute_noise = end - start\n",
    "\n",
    "print(grover_qc_output_noise)\n",
    "print(\"Execution time: \", grover_qc_execute_noise)\n",
    "plot_histogram(grover_qc_output_noise)"
   ]
  },
  {
   "cell_type": "code",
   "execution_count": 12,
   "metadata": {},
   "outputs": [
    {
     "name": "stdout",
     "output_type": "stream",
     "text": [
      "The probability of measuring 011 in the noisy simulator is 21.88720703125 %\n"
     ]
    }
   ],
   "source": [
    "# Check the probability of measuring 'x' in the noisy simulator\n",
    "if x in grover_qc_output_noise:\n",
    "    prob_noise = (grover_qc_output_noise[x] / 8192.0) * 100\n",
    "else:\n",
    "    prob_noise = 0.0\n",
    "    \n",
    "print(f\"The probability of measuring {x} in the noisy simulator is\", prob_noise, \"%\")"
   ]
  },
  {
   "cell_type": "markdown",
   "metadata": {},
   "source": [
    "## Step 4: Present one diagram that map the number of qubits to execution time"
   ]
  },
  {
   "cell_type": "code",
   "execution_count": 13,
   "metadata": {},
   "outputs": [],
   "source": [
    "timeList = {}\n",
    "\n",
    "# The function displayPlot is to calculate the execution time \n",
    "# for each number of qubits and for each kind of simulator and store them in timeList\n",
    "# func: Function to geneate the Uf opeartion\n",
    "# simulateType: \"noise\" or \"no-noise\" simulatior\n",
    "# title: Title of the dot plot\n",
    "def displayPlot(func, simulateType, title):\n",
    "    execute_time = {}\n",
    "    \n",
    "    # Check what type of simulator is used\n",
    "    if (simulateType == \"noise\"):\n",
    "        provider = FakeVigo()\n",
    "        backend = AerSimulator.from_backend(provider)\n",
    "        qubitRange = range(1, 5)\n",
    "    if (simulateType == \"no-noise\"):\n",
    "        backend = Aer.get_backend('aer_simulator')\n",
    "        qubitRange = range(1, 20)\n",
    "    \n",
    "    for n in qubitRange:\n",
    "        # Generate 'a' with the length of n\n",
    "        a = ''\n",
    "        for i in range(n):\n",
    "            bit = str(rd.randint(0, 1))\n",
    "            a += bit\n",
    "        \n",
    "        oracle = func(a, n)\n",
    "        qc = grover(oracle, n)\n",
    "\n",
    "        # Record start time\n",
    "        start = time.time()\n",
    "\n",
    "        qc_trans = transpile(qc, backend)\n",
    "        job = backend.run(qc_trans, shots=8192)\n",
    "        output = job.result().get_counts()\n",
    "\n",
    "        # Record end time\n",
    "        end = time.time()\n",
    "        execute = end - start\n",
    "\n",
    "        execute_time[n] = execute\n",
    "        \n",
    "    timeList[title] = execute_time\n",
    "    \n",
    "    return"
   ]
  },
  {
   "cell_type": "code",
   "execution_count": 14,
   "metadata": {},
   "outputs": [],
   "source": [
    "displayPlot(grover_oracle, \"no-noise\", \"Execution time for different number of qubits in Grover's oracle (No noise)\")\n",
    "displayPlot(grover_oracle, \"noise\", \"Execution time for different number of qubits in Grover's oracle (Noise)\")"
   ]
  },
  {
   "cell_type": "code",
   "execution_count": 15,
   "metadata": {},
   "outputs": [
    {
     "data": {
      "image/png": "[encoded data removed]",
      "text/plain": [
       "<Figure size 432x288 with 1 Axes>"
      ]
     },
     "metadata": {
      "needs_background": "light"
     },
     "output_type": "display_data"
    },
    {
     "data": {
      "image/png": "[encoded data removed]",
      "text/plain": [
       "<Figure size 432x288 with 1 Axes>"
      ]
     },
     "metadata": {
      "needs_background": "light"
     },
     "output_type": "display_data"
    }
   ],
   "source": [
    "import matplotlib.pyplot as plt\n",
    "\n",
    "for key in timeList:\n",
    "    value = timeList[key]\n",
    "    \n",
    "    # Extract keys and values from the dictionary\n",
    "    keys = list(value.keys())\n",
    "    values = list(value.values())\n",
    "\n",
    "    # Create a dot plot\n",
    "    plt.scatter(keys, values, color='blue', marker='o')\n",
    "\n",
    "    # Add labels and title\n",
    "    plt.xlabel('Number of qubits')\n",
    "    plt.ylabel('Execution time')\n",
    "    plt.title(key)\n",
    "\n",
    "    # Display the plot\n",
    "    plt.show()"
   ]
  },
  {
   "cell_type": "code",
   "execution_count": null,
   "metadata": {},
   "outputs": [],
   "source": []
  }
 ],
 "metadata": {
  "kernelspec": {
   "display_name": "Python 3",
   "language": "python",
   "name": "python3"
  },
  "language_info": {
   "codemirror_mode": {
    "name": "ipython",
    "version": 3
   },
   "file_extension": ".py",
   "mimetype": "text/x-python",
   "name": "python",
   "nbconvert_exporter": "python",
   "pygments_lexer": "ipython3",
   "version": "3.8.5"
  }
 },
 "nbformat": 4,
 "nbformat_minor": 4
}
