{
 "cells": [
  {
   "cell_type": "code",
   "execution_count": 1,
   "metadata": {},
   "outputs": [],
   "source": [
    "from qiskit import *\n",
    "from qiskit.visualization import plot_histogram\n",
    "import numpy as np\n",
    "import time"
   ]
  },
  {
   "cell_type": "markdown",
   "metadata": {},
   "source": [
    "## Step 1: Set the number of qubits"
   ]
  },
  {
   "cell_type": "code",
   "execution_count": 2,
   "metadata": {},
   "outputs": [],
   "source": [
    "# Set n as the length of the input bit string\n",
    "n = 3"
   ]
  },
  {
   "cell_type": "markdown",
   "metadata": {},
   "source": [
    "## Step 2: Implement Deutsch Jozsa Circuit\n",
    "### a. Define the deutsch_jozsa function which will generate the Deutsch Jozsa Circuit"
   ]
  },
  {
   "cell_type": "code",
   "execution_count": 3,
   "metadata": {},
   "outputs": [],
   "source": [
    "def deutsch_jozsa(oracle, n):\n",
    "    # Circuit has n main qubits and 1 helper qubit, and we measure n main qubits\n",
    "    qc = QuantumCircuit(n+1, n)\n",
    "    \n",
    "    # Gate operations\n",
    "    # Add x gate to the helper qubit\n",
    "    qc.x(n)\n",
    "    # Add H gate to every qubits (0, 1, ... n)\n",
    "    for i in range(n+1):\n",
    "        qc.h(i)\n",
    "    \n",
    "    # barrier between input state and Uf operation\n",
    "    qc.barrier()\n",
    "        \n",
    "    # Add Uf operation to the current circuit\n",
    "    qc.append(oracle, range(n+1))\n",
    "    \n",
    "    # barrier between Uf operation and measurement\n",
    "    qc.barrier()\n",
    "    \n",
    "    # Add H gate to every qubits (0, 1, ... n-1) again except the helper qubit\n",
    "    for i in range(n):\n",
    "        qc.h(i)\n",
    "        \n",
    "    # Measure n main qubits\n",
    "    for i in range(n):\n",
    "        qc.measure(i, i)\n",
    "    \n",
    "    return qc"
   ]
  },
  {
   "cell_type": "markdown",
   "metadata": {},
   "source": [
    "### b. Generate the gates in Uf opertion for Constant function and Balanced function"
   ]
  },
  {
   "cell_type": "code",
   "execution_count": 4,
   "metadata": {},
   "outputs": [],
   "source": [
    "# ConstantFunc will generate a Uf operation for a function that always returns 1\n",
    "def constantFunc(n):\n",
    "    constant_oracle = QuantumCircuit(n+1)\n",
    "    \n",
    "    # Add x gate to the helper qubit\n",
    "    constant_oracle.x(n)\n",
    "    \n",
    "    return constant_oracle\n",
    "\n",
    "# BalancedFunc will generate a Uf opeartion which includes multiple CNOT gates \n",
    "# between every main qubit and the helper qubit\n",
    "def balancedFunc(n):\n",
    "    balanced_oracle = QuantumCircuit(n+1)\n",
    "    \n",
    "    # Apply a controlled-X gate from each qubits to the helper qubit\n",
    "    for i in range(n):\n",
    "        balanced_oracle.cx(i, n)\n",
    "    \n",
    "    return balanced_oracle"
   ]
  },
  {
   "cell_type": "markdown",
   "metadata": {},
   "source": [
    "### c. Display the entire Deutsch Jozsa circuit"
   ]
  },
  {
   "cell_type": "code",
   "execution_count": 5,
   "metadata": {},
   "outputs": [
    {
     "name": "stdout",
     "output_type": "stream",
     "text": [
      "Uf in the circuit of Bernstein Vazirani algorithm (Constant function): \n",
      "          \n",
      "q_0: ─────\n",
      "          \n",
      "q_1: ─────\n",
      "          \n",
      "q_2: ─────\n",
      "     ┌───┐\n",
      "q_3: ┤ X ├\n",
      "     └───┘\n",
      "Circuit of Deutsch Jozsa algorithm (Constant function): \n",
      "     ┌───┐      ░ ┌──────────────┐ ░ ┌───┐┌─┐      \n",
      "q_0: ┤ H ├──────░─┤0             ├─░─┤ H ├┤M├──────\n",
      "     ├───┤      ░ │              │ ░ ├───┤└╥┘┌─┐   \n",
      "q_1: ┤ H ├──────░─┤1             ├─░─┤ H ├─╫─┤M├───\n",
      "     ├───┤      ░ │  circuit-152 │ ░ ├───┤ ║ └╥┘┌─┐\n",
      "q_2: ┤ H ├──────░─┤2             ├─░─┤ H ├─╫──╫─┤M├\n",
      "     ├───┤┌───┐ ░ │              │ ░ └───┘ ║  ║ └╥┘\n",
      "q_3: ┤ X ├┤ H ├─░─┤3             ├─░───────╫──╫──╫─\n",
      "     └───┘└───┘ ░ └──────────────┘ ░       ║  ║  ║ \n",
      "c: 3/══════════════════════════════════════╩══╩══╩═\n",
      "                                           0  1  2 \n"
     ]
    }
   ],
   "source": [
    "# Print out the DJ circuit when the input function is constant\n",
    "constant_oracle = constantFunc(n)\n",
    "constant_oracle_gates = constant_oracle.to_gate()\n",
    "constant_qc = deutsch_jozsa(constant_oracle_gates, n)\n",
    "\n",
    "print(f\"Uf in the circuit of Bernstein Vazirani algorithm (Constant function): \")\n",
    "print(constant_oracle.draw())\n",
    "print(\"Circuit of Deutsch Jozsa algorithm (Constant function): \")\n",
    "print(constant_qc.draw())"
   ]
  },
  {
   "cell_type": "code",
   "execution_count": 6,
   "metadata": {},
   "outputs": [
    {
     "name": "stdout",
     "output_type": "stream",
     "text": [
      "Uf in the circuit of Bernstein Vazirani algorithm (Balanced function): \n",
      "                    \n",
      "q_0: ──■────────────\n",
      "       │            \n",
      "q_1: ──┼────■───────\n",
      "       │    │       \n",
      "q_2: ──┼────┼────■──\n",
      "     ┌─┴─┐┌─┴─┐┌─┴─┐\n",
      "q_3: ┤ X ├┤ X ├┤ X ├\n",
      "     └───┘└───┘└───┘\n",
      "Circuit of Deutsch Jozsa algorithm (Balanced function): \n",
      "     ┌───┐      ░ ┌──────────────┐ ░ ┌───┐┌─┐      \n",
      "q_0: ┤ H ├──────░─┤0             ├─░─┤ H ├┤M├──────\n",
      "     ├───┤      ░ │              │ ░ ├───┤└╥┘┌─┐   \n",
      "q_1: ┤ H ├──────░─┤1             ├─░─┤ H ├─╫─┤M├───\n",
      "     ├───┤      ░ │  circuit-156 │ ░ ├───┤ ║ └╥┘┌─┐\n",
      "q_2: ┤ H ├──────░─┤2             ├─░─┤ H ├─╫──╫─┤M├\n",
      "     ├───┤┌───┐ ░ │              │ ░ └───┘ ║  ║ └╥┘\n",
      "q_3: ┤ X ├┤ H ├─░─┤3             ├─░───────╫──╫──╫─\n",
      "     └───┘└───┘ ░ └──────────────┘ ░       ║  ║  ║ \n",
      "c: 3/══════════════════════════════════════╩══╩══╩═\n",
      "                                           0  1  2 \n"
     ]
    }
   ],
   "source": [
    "# Print out the DJ circuit when the input function is balanced\n",
    "balanced_oracle = balancedFunc(n)\n",
    "balanced_oracle_gates = balanced_oracle.to_gate()\n",
    "balanced_qc = deutsch_jozsa(balanced_oracle_gates, n)\n",
    "\n",
    "print(f\"Uf in the circuit of Bernstein Vazirani algorithm (Balanced function): \")\n",
    "print(balanced_oracle.draw())\n",
    "print(\"Circuit of Deutsch Jozsa algorithm (Balanced function): \")\n",
    "print(balanced_qc.draw())"
   ]
  },
  {
   "cell_type": "markdown",
   "metadata": {},
   "source": [
    "## Step 3: Run the program on a simulator\n",
    "### a. Use the simulator without noise (Local Simulator)"
   ]
  },
  {
   "cell_type": "code",
   "execution_count": 7,
   "metadata": {},
   "outputs": [],
   "source": [
    "# Simulator without noise (Local Simulator)\n",
    "# We'll run the program on a simulator\n",
    "backend = Aer.get_backend('aer_simulator')"
   ]
  },
  {
   "cell_type": "code",
   "execution_count": 8,
   "metadata": {},
   "outputs": [
    {
     "name": "stdout",
     "output_type": "stream",
     "text": [
      "{'000': 8192}\n",
      "Execution time:  0.07540416717529297\n",
      "The probability of measuring 000 in Constant function is 100.0 %\n"
     ]
    },
    {
     "data": {
      "image/png": "[encoded data removed]",
      "text/plain": [
       "<Figure size 504x360 with 1 Axes>"
      ]
     },
     "execution_count": 8,
     "metadata": {},
     "output_type": "execute_result"
    }
   ],
   "source": [
    "# Constant Function\n",
    "# Record start time\n",
    "start = time.time()\n",
    "\n",
    "constant_qc_trans = transpile(constant_qc, backend)\n",
    "constant_job = backend.run(constant_qc_trans, shots=8192)\n",
    "constant_output = constant_job.result().get_counts()\n",
    "\n",
    "# Record end time\n",
    "end = time.time()\n",
    "constant_qc_execute = end - start\n",
    "\n",
    "\n",
    "# Check the probability of measuring all zero in Constant function\n",
    "all_zero = '0' * n\n",
    "\n",
    "if all_zero in constant_output:\n",
    "    prob_const = (constant_output[all_zero] / 8192.0) * 100\n",
    "else:\n",
    "    prob_const = 0.0\n",
    "\n",
    "\n",
    "print(constant_output)\n",
    "print(\"Execution time: \", constant_qc_execute)\n",
    "print(\"The probability of measuring \" + all_zero + \" in Constant function is\", prob_const, \"%\")\n",
    "plot_histogram(constant_output)"
   ]
  },
  {
   "cell_type": "code",
   "execution_count": 9,
   "metadata": {},
   "outputs": [
    {
     "name": "stdout",
     "output_type": "stream",
     "text": [
      "{'111': 8192}\n",
      "Execution time:  0.030804872512817383\n",
      "The probability of measuring 000 in Balanced function is 0.0 %\n"
     ]
    },
    {
     "data": {
      "image/png": "[encoded data removed]",
      "text/plain": [
       "<Figure size 504x360 with 1 Axes>"
      ]
     },
     "execution_count": 9,
     "metadata": {},
     "output_type": "execute_result"
    }
   ],
   "source": [
    "# Balanced Function\n",
    "# Record start time\n",
    "start = time.time()\n",
    "\n",
    "balanced_qc_trans = transpile(balanced_qc, backend)\n",
    "balanced_job = backend.run(balanced_qc_trans, shots=8192)\n",
    "balanced_output = balanced_job.result().get_counts()\n",
    "\n",
    "# Record end time\n",
    "end = time.time()\n",
    "balanced_qc_execute = end - start\n",
    "\n",
    "\n",
    "# Check the probability of measuring all zero in Balanced function\n",
    "all_zero = '0' * n\n",
    "if all_zero in balanced_output:\n",
    "    prob_bal = (balanced_output[all_zero] / 8192.0) * 100\n",
    "else:\n",
    "    prob_bal = 0.0\n",
    "\n",
    "\n",
    "print(balanced_output)\n",
    "print(\"Execution time: \", balanced_qc_execute)\n",
    "print(\"The probability of measuring \" + all_zero + \" in Balanced function is\", prob_bal, \"%\")\n",
    "plot_histogram(balanced_output)"
   ]
  },
  {
   "cell_type": "markdown",
   "metadata": {},
   "source": [
    "### b. Use on a simulator with noise (Fake Provider Backends)"
   ]
  },
  {
   "cell_type": "code",
   "execution_count": 10,
   "metadata": {},
   "outputs": [],
   "source": [
    "# Simulator with noise\n",
    "from qiskit_aer import AerSimulator\n",
    "from qiskit.providers.fake_provider import FakeVigo\n",
    "provider = FakeVigo()\n",
    "backend_noise = AerSimulator.from_backend(provider)"
   ]
  },
  {
   "cell_type": "code",
   "execution_count": 11,
   "metadata": {},
   "outputs": [
    {
     "name": "stdout",
     "output_type": "stream",
     "text": [
      "{'011': 12, '110': 2, '100': 42, '001': 627, '101': 5, '010': 74, '000': 7430}\n",
      "Execution time:  0.09056520462036133\n",
      "The probability of measuring 000 in Constant function is 90.6982421875 %\n"
     ]
    },
    {
     "data": {
      "image/png": "[encoded data removed]",
      "text/plain": [
       "<Figure size 504x360 with 1 Axes>"
      ]
     },
     "execution_count": 11,
     "metadata": {},
     "output_type": "execute_result"
    }
   ],
   "source": [
    "# Run the program on a noisy simulator\n",
    "# Constant Function\n",
    "# Record start time\n",
    "start = time.time()\n",
    "\n",
    "constant_qc_trans_noise = transpile(constant_qc, backend_noise)\n",
    "constant_job_noise = backend_noise.run(constant_qc_trans_noise, shots=8192)\n",
    "constant_output_noise = constant_job_noise.result().get_counts()\n",
    "\n",
    "# Record end time\n",
    "end = time.time()\n",
    "constant_qc_execute_noise = end - start\n",
    "\n",
    "\n",
    "# Check the probability of measuring all zero in Constant function\n",
    "all_zero = '0' * n\n",
    "\n",
    "if all_zero in constant_output_noise:\n",
    "    prob_const_noise = (constant_output_noise[all_zero] / 8192.0) * 100\n",
    "else:\n",
    "    prob_const_noise = 0.0\n",
    "\n",
    "    \n",
    "print(constant_output_noise)\n",
    "print(\"Execution time: \", constant_qc_execute_noise)\n",
    "print(\"The probability of measuring \" + all_zero + \" in Constant function is\", prob_const_noise, \"%\")\n",
    "plot_histogram(constant_output_noise)"
   ]
  },
  {
   "cell_type": "code",
   "execution_count": 12,
   "metadata": {},
   "outputs": [
    {
     "name": "stdout",
     "output_type": "stream",
     "text": [
      "{'010': 20, '000': 21, '100': 8, '110': 240, '001': 61, '101': 191, '011': 669, '111': 6982}\n",
      "Execution time:  0.08976101875305176\n",
      "The probability of measuring 000 in Constant function is 0.25634765625 %\n"
     ]
    },
    {
     "data": {
      "image/png": "[encoded data removed]",
      "text/plain": [
       "<Figure size 504x360 with 1 Axes>"
      ]
     },
     "execution_count": 12,
     "metadata": {},
     "output_type": "execute_result"
    }
   ],
   "source": [
    "# Run the program on a noisy simulator\n",
    "# Balanced Function\n",
    "# Record start time\n",
    "start = time.time()\n",
    "\n",
    "balanced_qc_trans_noise = transpile(balanced_qc, backend_noise)\n",
    "balanced_job_noise = backend_noise.run(balanced_qc_trans_noise, shots=8192)\n",
    "balanced_output_noise = balanced_job_noise.result().get_counts()\n",
    "\n",
    "# Record end time\n",
    "end = time.time()\n",
    "balanced_qc_execute_noise = end - start\n",
    "\n",
    "\n",
    "# Check the probability of measuring all zero in Constant function\n",
    "all_zero = '0' * n\n",
    "\n",
    "if all_zero in balanced_output_noise:\n",
    "    prob_bal_noise = (balanced_output_noise[all_zero] / 8192.0) * 100\n",
    "else:\n",
    "    prob_bal_noise = 0.0\n",
    "    \n",
    "    \n",
    "print(balanced_output_noise)\n",
    "print(\"Execution time: \", balanced_qc_execute_noise)\n",
    "print(\"The probability of measuring \" + all_zero + \" in Constant function is\", prob_bal_noise, \"%\")\n",
    "plot_histogram(balanced_output_noise)"
   ]
  },
  {
   "cell_type": "markdown",
   "metadata": {},
   "source": [
    "## Step 4: Present some diagrams that map the number of qubits to execution time"
   ]
  },
  {
   "cell_type": "code",
   "execution_count": 13,
   "metadata": {},
   "outputs": [],
   "source": [
    "timeList = {}\n",
    "\n",
    "# The function displayPlot is to calculate the execution time \n",
    "# for each number of qubits and for each kind of simulator and store them in timeList\n",
    "# func: Function to geneate the Uf opeartion\n",
    "# simulateType: \"noise\" or \"no-noise\" simulatior\n",
    "# title: Title of the dot plot\n",
    "def displayPlot(func, simulateType, title):\n",
    "    execute_time = {}\n",
    "    \n",
    "    # Check what type of simulator is used\n",
    "    if (simulateType == \"noise\"):\n",
    "        provider = FakeVigo()\n",
    "        backend = AerSimulator.from_backend(provider)\n",
    "        qubitRange = range(1, 5)\n",
    "    if (simulateType == \"no-noise\"):\n",
    "        backend = Aer.get_backend('aer_simulator')\n",
    "        qubitRange = range(1, 28)\n",
    "    \n",
    "    for n in qubitRange:\n",
    "        oracle = func(n)\n",
    "        qc = deutsch_jozsa(oracle, n)\n",
    "\n",
    "        # Record start time\n",
    "        start = time.time()\n",
    "\n",
    "        qc_trans = transpile(qc, backend)\n",
    "        job = backend.run(qc_trans, shots=8192)\n",
    "        output = job.result().get_counts()\n",
    "\n",
    "        # Record end time\n",
    "        end = time.time()\n",
    "        execute = end - start\n",
    "\n",
    "        execute_time[n] = execute\n",
    "        \n",
    "    timeList[title] = execute_time\n",
    "    \n",
    "    return"
   ]
  },
  {
   "cell_type": "code",
   "execution_count": 14,
   "metadata": {},
   "outputs": [],
   "source": [
    "displayPlot(constantFunc, \"no-noise\", \"Execution time for different number of qubits in Constant Function (No noise)\")\n",
    "displayPlot(balancedFunc, \"no-noise\", \"Execution time for different number of qubits in Balanced Function (No noise)\")\n",
    "displayPlot(constantFunc, \"noise\", \"Execution time for different number of qubits in Constant Function (Noise)\")\n",
    "displayPlot(balancedFunc, \"noise\", \"Execution time for different number of qubits in Balanced Function (Noise)\")"
   ]
  },
  {
   "cell_type": "code",
   "execution_count": 15,
   "metadata": {},
   "outputs": [
    {
     "data": {
      "image/png": "[encoded data removed]",
      "text/plain": [
       "<Figure size 432x288 with 1 Axes>"
      ]
     },
     "metadata": {
      "needs_background": "light"
     },
     "output_type": "display_data"
    },
    {
     "data": {
      "image/png": "[encoded data removed]",
      "text/plain": [
       "<Figure size 432x288 with 1 Axes>"
      ]
     },
     "metadata": {
      "needs_background": "light"
     },
     "output_type": "display_data"
    },
    {
     "data": {
      "image/png": "[encoded data removed]",
      "text/plain": [
       "<Figure size 432x288 with 1 Axes>"
      ]
     },
     "metadata": {
      "needs_background": "light"
     },
     "output_type": "display_data"
    },
    {
     "data": {
      "image/png": "[encoded data removed]",
      "text/plain": [
       "<Figure size 432x288 with 1 Axes>"
      ]
     },
     "metadata": {
      "needs_background": "light"
     },
     "output_type": "display_data"
    }
   ],
   "source": [
    "import matplotlib.pyplot as plt\n",
    "\n",
    "for key in timeList:\n",
    "    value = timeList[key]\n",
    "    \n",
    "    # Extract keys and values from the dictionary\n",
    "    keys = list(value.keys())\n",
    "    values = list(value.values())\n",
    "\n",
    "    # Create a dot plot\n",
    "    plt.scatter(keys, values, color='blue', marker='o')\n",
    "\n",
    "    # Add labels and title\n",
    "    plt.xlabel('Number of qubits')\n",
    "    plt.ylabel('Execution time')\n",
    "    plt.title(key)\n",
    "\n",
    "    # Display the plot\n",
    "    plt.show()"
   ]
  },
  {
   "cell_type": "code",
   "execution_count": null,
   "metadata": {},
   "outputs": [],
   "source": []
  }
 ],
 "metadata": {
  "kernelspec": {
   "display_name": "Python 3",
   "language": "python",
   "name": "python3"
  },
  "language_info": {
   "codemirror_mode": {
    "name": "ipython",
    "version": 3
   },
   "file_extension": ".py",
   "mimetype": "text/x-python",
   "name": "python",
   "nbconvert_exporter": "python",
   "pygments_lexer": "ipython3",
   "version": "3.8.5"
  }
 },
 "nbformat": 4,
 "nbformat_minor": 4
}
