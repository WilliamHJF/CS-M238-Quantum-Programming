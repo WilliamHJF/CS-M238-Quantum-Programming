{
 "cells": [
  {
   "cell_type": "code",
   "execution_count": 1,
   "metadata": {},
   "outputs": [],
   "source": [
    "from qiskit import *\n",
    "from qiskit.visualization import plot_histogram\n",
    "import numpy as np\n",
    "import time\n",
    "import random as rd"
   ]
  },
  {
   "cell_type": "markdown",
   "metadata": {},
   "source": [
    "## Step 1: Set the number of qubits and generate a random 'a'"
   ]
  },
  {
   "cell_type": "code",
   "execution_count": 2,
   "metadata": {},
   "outputs": [],
   "source": [
    "# Set n as the length of the input bit string\n",
    "n = 3\n",
    "\n",
    "# Generate a random binary bits strings with size n as a\n",
    "a = \"\"\n",
    "for i in range(n):\n",
    "    bit = str(rd.randint(0, 1))\n",
    "    a += bit\n",
    "    \n",
    "# OR set the a manually\n",
    "a = \"110\""
   ]
  },
  {
   "cell_type": "markdown",
   "metadata": {},
   "source": [
    "## Step 2: Implement Bernstein Vazirani Circuit\n",
    "### a. Define the bernstein_vazirani function which will generate the Bernstein Vazirani Circuit"
   ]
  },
  {
   "cell_type": "code",
   "execution_count": 3,
   "metadata": {},
   "outputs": [],
   "source": [
    "def bernstein_vazirani(oracle, n):\n",
    "    # Circuit has n main qubits and 1 helper qubit, and we measure n main qubits\n",
    "    qc = QuantumCircuit(n+1, n)\n",
    "    \n",
    "    # Gate operations\n",
    "    # Add x gate to the helper qubit\n",
    "    qc.x(n)\n",
    "    # Add H gate to every qubits (0, 1, ... n)\n",
    "    for i in range(n+1):\n",
    "        qc.h(i)\n",
    "    \n",
    "    # barrier between input state and Uf operation\n",
    "    qc.barrier()\n",
    "        \n",
    "    # Add Uf operation to the current circuit\n",
    "    qc.append(oracle, range(n+1))\n",
    "    \n",
    "    # barrier between Uf operation and measurement\n",
    "    qc.barrier()\n",
    "    \n",
    "    # Add H gate to every qubits (0, 1, ... n-1) again except the helper qubit\n",
    "    for i in range(n):\n",
    "        qc.h(i)\n",
    "        \n",
    "    # Measure n main qubits\n",
    "    for i in range(n):\n",
    "        qc.measure(i, i)\n",
    "    \n",
    "    return qc"
   ]
  },
  {
   "cell_type": "markdown",
   "metadata": {},
   "source": [
    "### b. Generate the gates in Uf opertion for test function which is to do dot product mod 2 between 'a' and 'x' "
   ]
  },
  {
   "cell_type": "code",
   "execution_count": 4,
   "metadata": {},
   "outputs": [],
   "source": [
    "def bv_oracle(a, n):\n",
    "    bv_oracle_circuit = QuantumCircuit(n+1)\n",
    "    \n",
    "    # Reverse the qubit ordering of a\n",
    "    a_reverse = a[::-1] \n",
    "    \n",
    "    # Apply controlled-x gates from the qubits with the value 1 to the helper qubit\n",
    "    for i in range(n):\n",
    "        if a_reverse[i] == '1':\n",
    "            bv_oracle_circuit.cx(i, n)\n",
    "    \n",
    "    return bv_oracle_circuit"
   ]
  },
  {
   "cell_type": "markdown",
   "metadata": {},
   "source": [
    "### c. Display the entire Bernstein Vazirani circuit"
   ]
  },
  {
   "cell_type": "code",
   "execution_count": 5,
   "metadata": {},
   "outputs": [
    {
     "name": "stdout",
     "output_type": "stream",
     "text": [
      "Uf in the circuit of Bernstein Vazirani algorithm (a = 110): \n",
      "               \n",
      "q_0: ──────────\n",
      "               \n",
      "q_1: ──■───────\n",
      "       │       \n",
      "q_2: ──┼────■──\n",
      "     ┌─┴─┐┌─┴─┐\n",
      "q_3: ┤ X ├┤ X ├\n",
      "     └───┘└───┘\n",
      "Circuit of Bernstein Vazirani algorithm: \n",
      "     ┌───┐      ░ ┌──────────────┐ ░ ┌───┐┌─┐      \n",
      "q_0: ┤ H ├──────░─┤0             ├─░─┤ H ├┤M├──────\n",
      "     ├───┤      ░ │              │ ░ ├───┤└╥┘┌─┐   \n",
      "q_1: ┤ H ├──────░─┤1             ├─░─┤ H ├─╫─┤M├───\n",
      "     ├───┤      ░ │  circuit-152 │ ░ ├───┤ ║ └╥┘┌─┐\n",
      "q_2: ┤ H ├──────░─┤2             ├─░─┤ H ├─╫──╫─┤M├\n",
      "     ├───┤┌───┐ ░ │              │ ░ └───┘ ║  ║ └╥┘\n",
      "q_3: ┤ X ├┤ H ├─░─┤3             ├─░───────╫──╫──╫─\n",
      "     └───┘└───┘ ░ └──────────────┘ ░       ║  ║  ║ \n",
      "c: 3/══════════════════════════════════════╩══╩══╩═\n",
      "                                           0  1  2 \n"
     ]
    }
   ],
   "source": [
    "# Print out the BV circuit\n",
    "bv_oracle_circuit = bv_oracle(a, n)\n",
    "bv_oracle_gates = bv_oracle_circuit.to_gate()\n",
    "bv_qc = bernstein_vazirani(bv_oracle_gates, n)\n",
    "\n",
    "print(f\"Uf in the circuit of Bernstein Vazirani algorithm (a = {a}): \")\n",
    "print(bv_oracle_circuit.draw())\n",
    "print(\"Circuit of Bernstein Vazirani algorithm: \")\n",
    "print(bv_qc.draw())"
   ]
  },
  {
   "cell_type": "markdown",
   "metadata": {},
   "source": [
    "## Step 3: Run the program on a simulator\n",
    "### a. Use the simulator without noise (Local Simulator)"
   ]
  },
  {
   "cell_type": "code",
   "execution_count": 6,
   "metadata": {},
   "outputs": [],
   "source": [
    "# Simulator without noise (Local Simulator)\n",
    "# We'll run the program on a simulator\n",
    "backend = Aer.get_backend('aer_simulator')"
   ]
  },
  {
   "cell_type": "code",
   "execution_count": 7,
   "metadata": {},
   "outputs": [
    {
     "name": "stdout",
     "output_type": "stream",
     "text": [
      "{'110': 8192}\n",
      "Execution time:  0.1257469654083252\n"
     ]
    },
    {
     "data": {
      "image/png": "[encoded data removed]",
      "text/plain": [
       "<Figure size 504x360 with 1 Axes>"
      ]
     },
     "execution_count": 7,
     "metadata": {},
     "output_type": "execute_result"
    }
   ],
   "source": [
    "# Record start time\n",
    "start = time.time()\n",
    "\n",
    "bv_qc_trans = transpile(bv_qc, backend)\n",
    "bv_qc_job = backend.run(bv_qc_trans, shots=8192)\n",
    "bv_qc_output = bv_qc_job.result().get_counts()\n",
    "\n",
    "# Record end time\n",
    "end = time.time()\n",
    "bv_qc_execute = end - start\n",
    "\n",
    "print(bv_qc_output)\n",
    "print(\"Execution time: \", bv_qc_execute)\n",
    "plot_histogram(bv_qc_output)"
   ]
  },
  {
   "cell_type": "code",
   "execution_count": 8,
   "metadata": {},
   "outputs": [
    {
     "name": "stdout",
     "output_type": "stream",
     "text": [
      "The probability of measuring 110 in the ideal simulator is 100.0 %\n"
     ]
    }
   ],
   "source": [
    "# Check the probability of measuring 'a' in the ideal simulator\n",
    "if a in bv_qc_output:\n",
    "    prob = (bv_qc_output[a] / 8192.0) * 100\n",
    "else:\n",
    "    prob = 0.0\n",
    "    \n",
    "print(f\"The probability of measuring {a} in the ideal simulator is\", prob, \"%\")"
   ]
  },
  {
   "cell_type": "markdown",
   "metadata": {},
   "source": [
    "### b. Use on a simulator with noise (Fake Provider Backends)"
   ]
  },
  {
   "cell_type": "code",
   "execution_count": 9,
   "metadata": {},
   "outputs": [],
   "source": [
    "# Simulator with noise （Fake Simulator)\n",
    "from qiskit_aer import AerSimulator\n",
    "from qiskit.providers.fake_provider import FakeVigo\n",
    "provider = FakeVigo()\n",
    "backend_noise = AerSimulator.from_backend(provider)"
   ]
  },
  {
   "cell_type": "code",
   "execution_count": 10,
   "metadata": {},
   "outputs": [
    {
     "name": "stdout",
     "output_type": "stream",
     "text": [
      "{'101': 7, '011': 10, '111': 199, '110': 7454, '100': 212, '010': 301, '000': 9}\n",
      "Execution time:  0.10072803497314453\n"
     ]
    },
    {
     "data": {
      "image/png": "[encoded data removed]",
      "text/plain": [
       "<Figure size 504x360 with 1 Axes>"
      ]
     },
     "execution_count": 10,
     "metadata": {},
     "output_type": "execute_result"
    }
   ],
   "source": [
    "# Run the program on a noisy simulator\n",
    "# Record start time\n",
    "start = time.time()\n",
    "\n",
    "bv_qc_trans_noise = transpile(bv_qc, backend_noise)\n",
    "bv_qc_job_noise = backend_noise.run(bv_qc_trans_noise, shots=8192)\n",
    "bv_qc_output_noise = bv_qc_job_noise.result().get_counts()\n",
    "\n",
    "# Record end time\n",
    "end = time.time()\n",
    "bv_qc_execute_noise = end - start\n",
    "\n",
    "print(bv_qc_output_noise)\n",
    "print(\"Execution time: \", bv_qc_execute_noise)\n",
    "plot_histogram(bv_qc_output_noise)"
   ]
  },
  {
   "cell_type": "code",
   "execution_count": 11,
   "metadata": {},
   "outputs": [
    {
     "name": "stdout",
     "output_type": "stream",
     "text": [
      "The probability of measuring 110 in the noisy simulator is 90.9912109375 %\n"
     ]
    }
   ],
   "source": [
    "# Check the probability of measuring 'a' in the noisy simulator\n",
    "if a in bv_qc_output_noise:\n",
    "    prob_noise = (bv_qc_output_noise[a] / 8192.0) * 100\n",
    "else:\n",
    "    prob_noise = 0.0\n",
    "    \n",
    "print(f\"The probability of measuring {a} in the noisy simulator is\", prob_noise, \"%\")"
   ]
  },
  {
   "cell_type": "markdown",
   "metadata": {},
   "source": [
    "## Step 4: Present one diagram that map the number of qubits to execution time"
   ]
  },
  {
   "cell_type": "code",
   "execution_count": 12,
   "metadata": {},
   "outputs": [],
   "source": [
    "timeList = {}\n",
    "\n",
    "# The function displayPlot is to calculate the execution time \n",
    "# for each number of qubits and for each kind of simulator and store them in timeList\n",
    "# func: Function to geneate the Uf opeartion\n",
    "# simulateType: \"noise\" or \"no-noise\" simulatior\n",
    "# title: Title of the dot plot\n",
    "def displayPlot(func, simulateType, title):\n",
    "    execute_time = {}\n",
    "    \n",
    "    # Check what type of simulator is used\n",
    "    if (simulateType == \"noise\"):\n",
    "        provider = FakeVigo()\n",
    "        backend = AerSimulator.from_backend(provider)\n",
    "        qubitRange = range(1, 5)\n",
    "    if (simulateType == \"no-noise\"):\n",
    "        backend = Aer.get_backend('aer_simulator')\n",
    "        qubitRange = range(1, 28)\n",
    "    \n",
    "    for n in qubitRange:\n",
    "        # Generate 'a' with the length of n\n",
    "        a = ''\n",
    "        for i in range(n):\n",
    "            bit = str(rd.randint(0, 1))\n",
    "            a += bit\n",
    "        \n",
    "        oracle = func(a, n)\n",
    "        qc = bernstein_vazirani(oracle, n)\n",
    "\n",
    "        # Record start time\n",
    "        start = time.time()\n",
    "\n",
    "        qc_trans = transpile(qc, backend)\n",
    "        job = backend.run(qc_trans, shots=8192)\n",
    "        output = job.result().get_counts()\n",
    "\n",
    "        # Record end time\n",
    "        end = time.time()\n",
    "        execute = end - start\n",
    "\n",
    "        execute_time[n] = execute\n",
    "        \n",
    "    timeList[title] = execute_time\n",
    "    \n",
    "    return"
   ]
  },
  {
   "cell_type": "code",
   "execution_count": 13,
   "metadata": {},
   "outputs": [],
   "source": [
    "displayPlot(bv_oracle, \"no-noise\", \"Execution time for different number of qubits in BV's oracle (No noise)\")\n",
    "displayPlot(bv_oracle, \"noise\", \"Execution time for different number of qubits in BV's oracle (Noise)\")"
   ]
  },
  {
   "cell_type": "code",
   "execution_count": 14,
   "metadata": {},
   "outputs": [
    {
     "data": {
      "image/png": "[encoded data removed]",
      "text/plain": [
       "<Figure size 432x288 with 1 Axes>"
      ]
     },
     "metadata": {
      "needs_background": "light"
     },
     "output_type": "display_data"
    },
    {
     "data": {
      "image/png": "[encoded data removed]",
      "text/plain": [
       "<Figure size 432x288 with 1 Axes>"
      ]
     },
     "metadata": {
      "needs_background": "light"
     },
     "output_type": "display_data"
    }
   ],
   "source": [
    "import matplotlib.pyplot as plt\n",
    "\n",
    "for key in timeList:\n",
    "    value = timeList[key]\n",
    "    \n",
    "    # Extract keys and values from the dictionary\n",
    "    keys = list(value.keys())\n",
    "    values = list(value.values())\n",
    "\n",
    "    # Create a dot plot\n",
    "    plt.scatter(keys, values, color='blue', marker='o')\n",
    "\n",
    "    # Add labels and title\n",
    "    plt.xlabel('Number of qubits')\n",
    "    plt.ylabel('Execution time')\n",
    "    plt.title(key)\n",
    "\n",
    "    # Display the plot\n",
    "    plt.show()"
   ]
  },
  {
   "cell_type": "code",
   "execution_count": null,
   "metadata": {},
   "outputs": [],
   "source": []
  }
 ],
 "metadata": {
  "kernelspec": {
   "display_name": "Python 3",
   "language": "python",
   "name": "python3"
  },
  "language_info": {
   "codemirror_mode": {
    "name": "ipython",
    "version": 3
   },
   "file_extension": ".py",
   "mimetype": "text/x-python",
   "name": "python",
   "nbconvert_exporter": "python",
   "pygments_lexer": "ipython3",
   "version": "3.8.5"
  }
 },
 "nbformat": 4,
 "nbformat_minor": 4
}
