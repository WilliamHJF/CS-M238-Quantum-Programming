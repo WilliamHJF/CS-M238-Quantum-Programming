{
 "cells": [
  {
   "cell_type": "code",
   "execution_count": 1,
   "metadata": {},
   "outputs": [],
   "source": [
    "from qiskit import *\n",
    "from qiskit.visualization import plot_histogram\n",
    "import numpy as np\n",
    "import time\n",
    "import random as rd"
   ]
  },
  {
   "cell_type": "markdown",
   "metadata": {},
   "source": [
    "## Step 1: Set the number of qubits and generate a random 's'"
   ]
  },
  {
   "cell_type": "code",
   "execution_count": 2,
   "metadata": {},
   "outputs": [],
   "source": [
    "# Set n as the length of the input bit string\n",
    "n = 3\n",
    "\n",
    "# Generate a random binary bits strings with size n as s\n",
    "s = \"\"\n",
    "for i in range(n):\n",
    "    bit = str(rd.randint(0, 1))\n",
    "    s += bit\n",
    "    \n",
    "# OR set the s manually\n",
    "s = \"110\""
   ]
  },
  {
   "cell_type": "markdown",
   "metadata": {},
   "source": [
    "## Step 2: Implement Simon's Circuit\n",
    "### a. Define the simon function which will generate the Simon's Circuit"
   ]
  },
  {
   "cell_type": "code",
   "execution_count": 3,
   "metadata": {},
   "outputs": [],
   "source": [
    "def simon(oracle, n):\n",
    "    # Circuit has n main qubits and n helper qubit, and we measure n main qubits\n",
    "    qc = QuantumCircuit(n+n, n)\n",
    "    \n",
    "    # Gate operations\n",
    "    # Add H gate to every main qubits (0, 1, ... n)\n",
    "    for i in range(n):\n",
    "        qc.h(i)\n",
    "    \n",
    "    # barrier between input state and Uf operation\n",
    "    qc.barrier()\n",
    "        \n",
    "    # Add Uf operation to the current circuit\n",
    "    qc.append(oracle, range(n+n))\n",
    "    \n",
    "    # barrier between Uf operation and measurement\n",
    "    qc.barrier()\n",
    "    \n",
    "    # Add H gate to every qubits (0, 1, ... n-1) again except the helper qubit\n",
    "    for i in range(n):\n",
    "        qc.h(i)\n",
    "        \n",
    "    # Measure n main qubits\n",
    "    for i in range(n):\n",
    "        qc.measure(i, i)\n",
    "    \n",
    "    return qc"
   ]
  },
  {
   "cell_type": "markdown",
   "metadata": {},
   "source": [
    "### b. Generate the gates in Uf opertion for Simon's algorithm"
   ]
  },
  {
   "cell_type": "code",
   "execution_count": 4,
   "metadata": {},
   "outputs": [],
   "source": [
    "def simon_oracle(s, n):\n",
    "    simon_oracle_circuit = QuantumCircuit(n+n)\n",
    "    \n",
    "    # Apply controlled-X gates from the main qubits to the corresponding 1-to-1 helper qubit\n",
    "    for i in range(n):\n",
    "        simon_oracle_circuit.cx(i, n+i)\n",
    "    \n",
    "    # Apply controlled-X gates from the first main qubit with a value of 1 to the helper qubits \n",
    "    # with the corrsponding main qubit of 1\n",
    "    s_reverse = s[::-1] \n",
    "    index = s_reverse.find('1') # Find the first main qubit with 1\n",
    "    if(index != -1):\n",
    "        for j in range(n):\n",
    "            if s_reverse[j] == '1':\n",
    "                simon_oracle_circuit.cx(index, n+j)\n",
    "    \n",
    "    return simon_oracle_circuit"
   ]
  },
  {
   "cell_type": "markdown",
   "metadata": {},
   "source": [
    "### c. Display the entire Simon's circuit"
   ]
  },
  {
   "cell_type": "code",
   "execution_count": 5,
   "metadata": {},
   "outputs": [
    {
     "name": "stdout",
     "output_type": "stream",
     "text": [
      "Uf in the circuit of Simon's algorithm (s = 110): \n",
      "                              \n",
      "q_0: ──■──────────────────────\n",
      "       │                      \n",
      "q_1: ──┼────■─────────■────■──\n",
      "       │    │         │    │  \n",
      "q_2: ──┼────┼────■────┼────┼──\n",
      "     ┌─┴─┐  │    │    │    │  \n",
      "q_3: ┤ X ├──┼────┼────┼────┼──\n",
      "     └───┘┌─┴─┐  │  ┌─┴─┐  │  \n",
      "q_4: ─────┤ X ├──┼──┤ X ├──┼──\n",
      "          └───┘┌─┴─┐└───┘┌─┴─┐\n",
      "q_5: ──────────┤ X ├─────┤ X ├\n",
      "               └───┘     └───┘\n",
      "Circuit of Simon's algorithm: \n",
      "     ┌───┐ ░ ┌──────────────┐ ░ ┌───┐┌─┐      \n",
      "q_0: ┤ H ├─░─┤0             ├─░─┤ H ├┤M├──────\n",
      "     ├───┤ ░ │              │ ░ ├───┤└╥┘┌─┐   \n",
      "q_1: ┤ H ├─░─┤1             ├─░─┤ H ├─╫─┤M├───\n",
      "     ├───┤ ░ │              │ ░ ├───┤ ║ └╥┘┌─┐\n",
      "q_2: ┤ H ├─░─┤2             ├─░─┤ H ├─╫──╫─┤M├\n",
      "     └───┘ ░ │  circuit-152 │ ░ └───┘ ║  ║ └╥┘\n",
      "q_3: ──────░─┤3             ├─░───────╫──╫──╫─\n",
      "           ░ │              │ ░       ║  ║  ║ \n",
      "q_4: ──────░─┤4             ├─░───────╫──╫──╫─\n",
      "           ░ │              │ ░       ║  ║  ║ \n",
      "q_5: ──────░─┤5             ├─░───────╫──╫──╫─\n",
      "           ░ └──────────────┘ ░       ║  ║  ║ \n",
      "c: 3/═════════════════════════════════╩══╩══╩═\n",
      "                                      0  1  2 \n"
     ]
    }
   ],
   "source": [
    "# Print out the Simon's circuit\n",
    "simon_oracle_circuit = simon_oracle(s, n)\n",
    "simon_oracle_gates = simon_oracle_circuit.to_gate()\n",
    "simon_qc = simon(simon_oracle_gates, n)\n",
    "\n",
    "print(f\"Uf in the circuit of Simon's algorithm (s = {s}): \")\n",
    "print(simon_oracle_circuit.draw())\n",
    "print(\"Circuit of Simon's algorithm: \")\n",
    "print(simon_qc.draw())"
   ]
  },
  {
   "cell_type": "markdown",
   "metadata": {},
   "source": [
    "## Step 3: Run the program on a simulator\n",
    "### a. Use the simulator without noise (Local Simulator)"
   ]
  },
  {
   "cell_type": "code",
   "execution_count": 6,
   "metadata": {},
   "outputs": [],
   "source": [
    "# Simulator without noise (Local Simulator)\n",
    "# We'll run the program on a simulator\n",
    "backend = Aer.get_backend('aer_simulator')"
   ]
  },
  {
   "cell_type": "code",
   "execution_count": 7,
   "metadata": {},
   "outputs": [
    {
     "name": "stdout",
     "output_type": "stream",
     "text": [
      "{'001': 2058, '111': 2047, '000': 2005, '110': 2082}\n",
      "Execution time:  0.09012103080749512\n"
     ]
    },
    {
     "data": {
      "image/png": "[encoded data removed]",
      "text/plain": [
       "<Figure size 504x360 with 1 Axes>"
      ]
     },
     "execution_count": 7,
     "metadata": {},
     "output_type": "execute_result"
    }
   ],
   "source": [
    "# Record start time\n",
    "start = time.time()\n",
    "\n",
    "simon_qc_trans = transpile(simon_qc, backend)\n",
    "simon_qc_job = backend.run(simon_qc_trans, shots=8192)\n",
    "simon_qc_output = simon_qc_job.result().get_counts()\n",
    "\n",
    "# Record end time\n",
    "end = time.time()\n",
    "simon_qc_execute = end - start\n",
    "\n",
    "print(simon_qc_output)\n",
    "print(\"Execution time: \", simon_qc_execute)\n",
    "plot_histogram(simon_qc_output)"
   ]
  },
  {
   "cell_type": "markdown",
   "metadata": {},
   "source": [
    "### Classical Part for the simulator without noise  \n",
    "### 1. Solve the system of linear equations y dot s = 0, "
   ]
  },
  {
   "cell_type": "code",
   "execution_count": 8,
   "metadata": {},
   "outputs": [
    {
     "name": "stdout",
     "output_type": "stream",
     "text": [
      "s dot product 001 = 0\n",
      "s dot product 111 = 0\n",
      "s dot product 000 = 0\n",
      "s dot product 110 = 0\n"
     ]
    }
   ],
   "source": [
    "# Print out the system of linear equations\n",
    "for key in simon_qc_output:\n",
    "    print(f\"s dot product {key} = 0\")"
   ]
  },
  {
   "cell_type": "markdown",
   "metadata": {},
   "source": [
    "### 2. Find a single solution that is different from 000, and that is s. "
   ]
  },
  {
   "cell_type": "markdown",
   "metadata": {},
   "source": [
    "s = 110 which matches the 's' that we set at the beginning"
   ]
  },
  {
   "cell_type": "markdown",
   "metadata": {},
   "source": [
    "### b. Use on a simulator with noise (Fake Provider Backends)"
   ]
  },
  {
   "cell_type": "code",
   "execution_count": 9,
   "metadata": {},
   "outputs": [],
   "source": [
    "# Simulator with noise （Fake Simulator)\n",
    "from qiskit_aer import AerSimulator\n",
    "from qiskit.providers.fake_provider import FakeVigo\n",
    "provider = FakeVigo()\n",
    "backend_noise = AerSimulator.from_backend(provider)"
   ]
  },
  {
   "cell_type": "markdown",
   "metadata": {},
   "source": [
    "### Since the maximum number of qubits in this Noisy Simulator, we need to make sure the length of s satisfy the requirement"
   ]
  },
  {
   "cell_type": "code",
   "execution_count": 10,
   "metadata": {},
   "outputs": [
    {
     "name": "stdout",
     "output_type": "stream",
     "text": [
      "{'01': 4007, '11': 31, '10': 25, '00': 4129}\n",
      "Execution time:  0.08628201484680176\n"
     ]
    },
    {
     "data": {
      "image/png": "[encoded data removed]",
      "text/plain": [
       "<Figure size 504x360 with 1 Axes>"
      ]
     },
     "execution_count": 10,
     "metadata": {},
     "output_type": "execute_result"
    }
   ],
   "source": [
    "# Run the program on a noisy simulator\n",
    "# Reset s and n\n",
    "s = '10'\n",
    "n = 2\n",
    "simons_oracle_2 = simon_oracle(s, n)\n",
    "simon_qc_2 = simon(simons_oracle_2, n)\n",
    "\n",
    "# Record start time\n",
    "start = time.time()\n",
    "\n",
    "simon_qc_trans_noise = transpile(simon_qc_2, backend_noise)\n",
    "simon_qc_job_noise = backend_noise.run(simon_qc_trans_noise, shots=8192)\n",
    "simon_qc_output_noise = simon_qc_job_noise.result().get_counts()\n",
    "\n",
    "# Record end time\n",
    "end = time.time()\n",
    "simon_qc_execute_noise = end - start\n",
    "\n",
    "print(simon_qc_output_noise)\n",
    "print(\"Execution time: \", simon_qc_execute_noise)\n",
    "plot_histogram(simon_qc_output_noise)"
   ]
  },
  {
   "cell_type": "markdown",
   "metadata": {},
   "source": [
    "### Classical Part for the simulator with noise  \n",
    "### 1. Solve the system of linear equations y dot s = 0"
   ]
  },
  {
   "cell_type": "code",
   "execution_count": 11,
   "metadata": {},
   "outputs": [
    {
     "name": "stdout",
     "output_type": "stream",
     "text": [
      "s dot product 01 = 0\n",
      "s dot product 11 = 0\n",
      "s dot product 10 = 0\n",
      "s dot product 00 = 0\n"
     ]
    }
   ],
   "source": [
    "# Print out the system of linear equations\n",
    "for key in simon_qc_output_noise:\n",
    "    print(f\"s dot product {key} = 0\")"
   ]
  },
  {
   "cell_type": "markdown",
   "metadata": {},
   "source": [
    "### 2. Find a single solution that is different from 00, and that is s. "
   ]
  },
  {
   "cell_type": "markdown",
   "metadata": {},
   "source": [
    "Here we can't find the single solution from the system of these linear equations because the simulator has noise and it makes the circuit generate 'y' that doesn't satisfies y dot s = 0. In this case, they are 10 and 11 since their count is much lower than 00 and 01. \n",
    "\n",
    "Let's ignore the noisy measurement 10 and 11.\n",
    "\n",
    "We can solve the linear equation s dot product 01 = 0 and get the single solution that is different from 00, and that is 10.\n",
    "\n",
    "Hence, s = 10 which matches the 's' that we set at the beginning"
   ]
  },
  {
   "cell_type": "markdown",
   "metadata": {},
   "source": [
    "## Step 4: Present one diagram that map the number of qubits to execution time"
   ]
  },
  {
   "cell_type": "code",
   "execution_count": 12,
   "metadata": {},
   "outputs": [],
   "source": [
    "timeList = {}\n",
    "\n",
    "# The function displayPlot is to calculate the execution time \n",
    "# for each number of qubits and for each kind of simulator and store them in timeList\n",
    "# func: Function to geneate the Uf opeartion\n",
    "# simulateType: \"noise\" or \"no-noise\" simulatior\n",
    "# title: Title of the dot plot\n",
    "def displayPlot(func, simulateType, title):\n",
    "    execute_time = {}\n",
    "    \n",
    "    # Check what type of simulator is used\n",
    "    if (simulateType == \"noise\"):\n",
    "        provider = FakeVigo()\n",
    "        backend = AerSimulator.from_backend(provider)\n",
    "        qubitRange = range(1, 3)\n",
    "    if (simulateType == \"no-noise\"):\n",
    "        backend = Aer.get_backend('aer_simulator')\n",
    "        qubitRange = range(1, 15)\n",
    "    \n",
    "    for n in qubitRange:\n",
    "        # Generate 'a' with the length of n\n",
    "        s = ''\n",
    "        for i in range(n):\n",
    "            bit = str(rd.randint(0, 1))\n",
    "            s += bit\n",
    "        \n",
    "        oracle = func(s, n)\n",
    "        qc = simon(oracle, n)\n",
    "\n",
    "        # Record start time\n",
    "        start = time.time()\n",
    "\n",
    "        qc_trans = transpile(qc, backend)\n",
    "        job = backend.run(qc_trans, shots=8192)\n",
    "        output = job.result().get_counts()\n",
    "\n",
    "        # Record end time\n",
    "        end = time.time()\n",
    "        execute = end - start\n",
    "\n",
    "        execute_time[n] = execute\n",
    "        \n",
    "    timeList[title] = execute_time\n",
    "    \n",
    "    return"
   ]
  },
  {
   "cell_type": "code",
   "execution_count": 13,
   "metadata": {},
   "outputs": [],
   "source": [
    "displayPlot(simon_oracle, \"no-noise\", \"Execution time for different number of qubits in Simon's Oracle (No noise)\")\n",
    "displayPlot(simon_oracle, \"noise\", \"Execution time for different number of qubits in Simon's Oracle (Noise)\")"
   ]
  },
  {
   "cell_type": "code",
   "execution_count": 14,
   "metadata": {},
   "outputs": [
    {
     "data": {
      "image/png": "[encoded data removed]",
      "text/plain": [
       "<Figure size 432x288 with 1 Axes>"
      ]
     },
     "metadata": {
      "needs_background": "light"
     },
     "output_type": "display_data"
    },
    {
     "data": {
      "image/png": "[encoded data removed]",
      "text/plain": [
       "<Figure size 432x288 with 1 Axes>"
      ]
     },
     "metadata": {
      "needs_background": "light"
     },
     "output_type": "display_data"
    }
   ],
   "source": [
    "import matplotlib.pyplot as plt\n",
    "\n",
    "for key in timeList:\n",
    "    value = timeList[key]\n",
    "    \n",
    "    # Extract keys and values from the dictionary\n",
    "    keys = list(value.keys())\n",
    "    values = list(value.values())\n",
    "\n",
    "    # Create a dot plot\n",
    "    plt.scatter(keys, values, color='blue', marker='o')\n",
    "\n",
    "    # Add labels and title\n",
    "    plt.xlabel('Number of qubits')\n",
    "    plt.ylabel('Execution time')\n",
    "    plt.title(key)\n",
    "\n",
    "    # Display the plot\n",
    "    plt.show()"
   ]
  }
 ],
 "metadata": {
  "kernelspec": {
   "display_name": "Python 3",
   "language": "python",
   "name": "python3"
  },
  "language_info": {
   "codemirror_mode": {
    "name": "ipython",
    "version": 3
   },
   "file_extension": ".py",
   "mimetype": "text/x-python",
   "name": "python",
   "nbconvert_exporter": "python",
   "pygments_lexer": "ipython3",
   "version": "3.8.5"
  }
 },
 "nbformat": 4,
 "nbformat_minor": 4
}
