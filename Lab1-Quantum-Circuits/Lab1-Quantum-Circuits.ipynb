{
 "cells": [
  {
   "cell_type": "code",
   "execution_count": null,
   "metadata": {},
   "outputs": [],
   "source": [
    "pip install qiskit\n",
    "pip install qiskit-aer\n",
    "pip install typing-extensions --upgrade\n",
    "pip install qiskit-ibmq-provider"
   ]
  },
  {
   "cell_type": "code",
   "execution_count": 1,
   "metadata": {},
   "outputs": [],
   "source": [
    "from qiskit import *\n",
    "from qiskit.visualization import plot_histogram\n",
    "import numpy as np"
   ]
  },
  {
   "cell_type": "markdown",
   "metadata": {},
   "source": [
    "## Part 1: Classical logic gates with quantum circuits\n",
    "\n",
    "#### Goal\n",
    "\n",
    "Create quantum circuit functions that can compute the XOR, AND, NAND and OR gates using the NOT gate (expressed as x in Qiskit), the CNOT gate (expressed as cx in Qiskit) and the Toffoli gate (expressed as ccx in Qiskit).\n",
    "\n",
    "An implementation of the NOT gate is provided as an example."
   ]
  },
  {
   "cell_type": "code",
   "execution_count": 2,
   "metadata": {},
   "outputs": [],
   "source": [
    "def NOT(inp):\n",
    "    \"\"\"An NOT gate.\n",
    "    \n",
    "    Parameters:\n",
    "        inp (str): Input, encoded in qubit 0.\n",
    "        \n",
    "    Returns:\n",
    "        QuantumCircuit: Output NOT circuit.\n",
    "        str: Output value measured from qubit 0.\n",
    "    \"\"\"\n",
    "\n",
    "    qc = QuantumCircuit(1, 1) # A quantum circuit with a single qubit and a single classical bit\n",
    "    qc.reset(0)\n",
    "    \n",
    "    # We encode '0' as the qubit state |0⟩, and '1' as |1⟩\n",
    "    # Since the qubit is initially |0⟩, we don't need to do anything for an input of '0'\n",
    "    # For an input of '1', we do an x to rotate the |0⟩ to |1⟩\n",
    "    if inp=='1':\n",
    "        qc.x(0)\n",
    "        \n",
    "    # barrier between input state and gate operation \n",
    "    qc.barrier()\n",
    "    \n",
    "    # Now we've encoded the input, we can do a NOT on it using x\n",
    "    qc.x(0)\n",
    "    \n",
    "    #barrier between gate operation and measurement\n",
    "    qc.barrier()\n",
    "    \n",
    "    # Finally, we extract the |0⟩/|1⟩ output of the qubit and encode it in the bit c[0]\n",
    "    qc.measure(0,0)\n",
    "    qc.draw()\n",
    "    \n",
    "    # We'll run the program on a simulator\n",
    "    backend = Aer.get_backend('aer_simulator')\n",
    "    # Since the output will be deterministic, we can use just a single shot to get it\n",
    "    job = backend.run(qc, shots=1, memory=True)\n",
    "    output = job.result().get_memory()[0]\n",
    "    \n",
    "    return qc, output"
   ]
  },
  {
   "cell_type": "code",
   "execution_count": 3,
   "metadata": {},
   "outputs": [
    {
     "name": "stdout",
     "output_type": "stream",
     "text": [
      "NOT with input 0 gives output 1\n"
     ]
    },
    {
     "data": {
      "text/html": [
       "<pre style=\"word-wrap: normal;white-space: pre;background: #fff0;line-height: 1.1;font-family: &quot;Courier New&quot;,Courier,monospace\">           ░ ┌───┐ ░ ┌─┐\n",
       "  q: ─|0>──░─┤ X ├─░─┤M├\n",
       "           ░ └───┘ ░ └╥┘\n",
       "c: 1/═════════════════╩═\n",
       "                      0 </pre>"
      ],
      "text/plain": [
       "           ░ ┌───┐ ░ ┌─┐\n",
       "  q: ─|0>──░─┤ X ├─░─┤M├\n",
       "           ░ └───┘ ░ └╥┘\n",
       "c: 1/═════════════════╩═\n",
       "                      0 "
      ]
     },
     "metadata": {},
     "output_type": "display_data"
    },
    {
     "name": "stdout",
     "output_type": "stream",
     "text": [
      "\n",
      "\n",
      "NOT with input 1 gives output 0\n"
     ]
    },
    {
     "data": {
      "text/html": [
       "<pre style=\"word-wrap: normal;white-space: pre;background: #fff0;line-height: 1.1;font-family: &quot;Courier New&quot;,Courier,monospace\">          ┌───┐ ░ ┌───┐ ░ ┌─┐\n",
       "  q: ─|0>─┤ X ├─░─┤ X ├─░─┤M├\n",
       "          └───┘ ░ └───┘ ░ └╥┘\n",
       "c: 1/══════════════════════╩═\n",
       "                           0 </pre>"
      ],
      "text/plain": [
       "          ┌───┐ ░ ┌───┐ ░ ┌─┐\n",
       "  q: ─|0>─┤ X ├─░─┤ X ├─░─┤M├\n",
       "          └───┘ ░ └───┘ ░ └╥┘\n",
       "c: 1/══════════════════════╩═\n",
       "                           0 "
      ]
     },
     "metadata": {},
     "output_type": "display_data"
    },
    {
     "name": "stdout",
     "output_type": "stream",
     "text": [
      "\n",
      "\n"
     ]
    }
   ],
   "source": [
    "## Test the function\n",
    "for inp in ['0', '1']:\n",
    "    qc, out = NOT(inp)\n",
    "    print('NOT with input',inp,'gives output',out)\n",
    "    display(qc.draw())\n",
    "    print('\\n')"
   ]
  },
  {
   "cell_type": "markdown",
   "metadata": {},
   "source": [
    "###  XOR gate\n",
    "Takes two binary strings as input and gives one as output.\n",
    "\n",
    "The output is '0' when the inputs are equal and '1' otherwise."
   ]
  },
  {
   "cell_type": "code",
   "execution_count": 24,
   "metadata": {},
   "outputs": [],
   "source": [
    "def XOR(inp1,inp2):\n",
    "    \"\"\"An XOR gate.\n",
    "    \n",
    "    Parameters:\n",
    "        inpt1 (str): Input 1, encoded in qubit 0.\n",
    "        inpt2 (str): Input 2, encoded in qubit 1.\n",
    "        \n",
    "    Returns:\n",
    "        QuantumCircuit: Output XOR circuit.\n",
    "        str: Output value measured from qubit 1.\n",
    "    \"\"\"\n",
    "  \n",
    "    qc = QuantumCircuit(2, 1) \n",
    "    qc.reset(range(2))\n",
    "    \n",
    "    # For an input of '1', we do an x to rotate the |0⟩ to |1⟩\n",
    "    if inp1=='1':\n",
    "        qc.x(0)\n",
    "    if inp2=='1':\n",
    "        qc.x(1)\n",
    "    \n",
    "    # barrier between input state and gate operation \n",
    "    qc.barrier()\n",
    "    \n",
    "    # this is where your program for quantum XOR gate goes\n",
    "    # Do an x to rotate the second qubit if the first qubit is 1 \n",
    "    qc.cx(0, 1)\n",
    "    \n",
    "    # barrier between input state and gate operation \n",
    "    qc.barrier()\n",
    "    \n",
    "    qc.measure(1,0) # output from qubit 1 is measured\n",
    "  \n",
    "    #We'll run the program on a simulator\n",
    "    backend = Aer.get_backend('aer_simulator')\n",
    "    #Since the output will be deterministic, we can use just a single shot to get it\n",
    "    job = backend.run(qc, shots=1, memory=True)\n",
    "    output = job.result().get_memory()[0]\n",
    "  \n",
    "    return qc, output"
   ]
  },
  {
   "cell_type": "code",
   "execution_count": 25,
   "metadata": {},
   "outputs": [
    {
     "name": "stdout",
     "output_type": "stream",
     "text": [
      "XOR with inputs 0 0 gives output 0\n"
     ]
    },
    {
     "data": {
      "text/html": [
       "<pre style=\"word-wrap: normal;white-space: pre;background: #fff0;line-height: 1.1;font-family: &quot;Courier New&quot;,Courier,monospace\">           ░       ░    \n",
       "q_0: ─|0>──░───■───░────\n",
       "           ░ ┌─┴─┐ ░ ┌─┐\n",
       "q_1: ─|0>──░─┤ X ├─░─┤M├\n",
       "           ░ └───┘ ░ └╥┘\n",
       "c: 1/═════════════════╩═\n",
       "                      0 </pre>"
      ],
      "text/plain": [
       "           ░       ░    \n",
       "q_0: ─|0>──░───■───░────\n",
       "           ░ ┌─┴─┐ ░ ┌─┐\n",
       "q_1: ─|0>──░─┤ X ├─░─┤M├\n",
       "           ░ └───┘ ░ └╥┘\n",
       "c: 1/═════════════════╩═\n",
       "                      0 "
      ]
     },
     "metadata": {},
     "output_type": "display_data"
    },
    {
     "name": "stdout",
     "output_type": "stream",
     "text": [
      "\n",
      "\n",
      "XOR with inputs 0 1 gives output 1\n"
     ]
    },
    {
     "data": {
      "text/html": [
       "<pre style=\"word-wrap: normal;white-space: pre;background: #fff0;line-height: 1.1;font-family: &quot;Courier New&quot;,Courier,monospace\">                ░       ░    \n",
       "q_0: ─|0>───────░───■───░────\n",
       "          ┌───┐ ░ ┌─┴─┐ ░ ┌─┐\n",
       "q_1: ─|0>─┤ X ├─░─┤ X ├─░─┤M├\n",
       "          └───┘ ░ └───┘ ░ └╥┘\n",
       "c: 1/══════════════════════╩═\n",
       "                           0 </pre>"
      ],
      "text/plain": [
       "                ░       ░    \n",
       "q_0: ─|0>───────░───■───░────\n",
       "          ┌───┐ ░ ┌─┴─┐ ░ ┌─┐\n",
       "q_1: ─|0>─┤ X ├─░─┤ X ├─░─┤M├\n",
       "          └───┘ ░ └───┘ ░ └╥┘\n",
       "c: 1/══════════════════════╩═\n",
       "                           0 "
      ]
     },
     "metadata": {},
     "output_type": "display_data"
    },
    {
     "name": "stdout",
     "output_type": "stream",
     "text": [
      "\n",
      "\n",
      "XOR with inputs 1 0 gives output 1\n"
     ]
    },
    {
     "data": {
      "text/html": [
       "<pre style=\"word-wrap: normal;white-space: pre;background: #fff0;line-height: 1.1;font-family: &quot;Courier New&quot;,Courier,monospace\">          ┌───┐ ░       ░    \n",
       "q_0: ─|0>─┤ X ├─░───■───░────\n",
       "          └───┘ ░ ┌─┴─┐ ░ ┌─┐\n",
       "q_1: ─|0>───────░─┤ X ├─░─┤M├\n",
       "                ░ └───┘ ░ └╥┘\n",
       "c: 1/══════════════════════╩═\n",
       "                           0 </pre>"
      ],
      "text/plain": [
       "          ┌───┐ ░       ░    \n",
       "q_0: ─|0>─┤ X ├─░───■───░────\n",
       "          └───┘ ░ ┌─┴─┐ ░ ┌─┐\n",
       "q_1: ─|0>───────░─┤ X ├─░─┤M├\n",
       "                ░ └───┘ ░ └╥┘\n",
       "c: 1/══════════════════════╩═\n",
       "                           0 "
      ]
     },
     "metadata": {},
     "output_type": "display_data"
    },
    {
     "name": "stdout",
     "output_type": "stream",
     "text": [
      "\n",
      "\n",
      "XOR with inputs 1 1 gives output 0\n"
     ]
    },
    {
     "data": {
      "text/html": [
       "<pre style=\"word-wrap: normal;white-space: pre;background: #fff0;line-height: 1.1;font-family: &quot;Courier New&quot;,Courier,monospace\">          ┌───┐ ░       ░    \n",
       "q_0: ─|0>─┤ X ├─░───■───░────\n",
       "          ├───┤ ░ ┌─┴─┐ ░ ┌─┐\n",
       "q_1: ─|0>─┤ X ├─░─┤ X ├─░─┤M├\n",
       "          └───┘ ░ └───┘ ░ └╥┘\n",
       "c: 1/══════════════════════╩═\n",
       "                           0 </pre>"
      ],
      "text/plain": [
       "          ┌───┐ ░       ░    \n",
       "q_0: ─|0>─┤ X ├─░───■───░────\n",
       "          ├───┤ ░ ┌─┴─┐ ░ ┌─┐\n",
       "q_1: ─|0>─┤ X ├─░─┤ X ├─░─┤M├\n",
       "          └───┘ ░ └───┘ ░ └╥┘\n",
       "c: 1/══════════════════════╩═\n",
       "                           0 "
      ]
     },
     "metadata": {},
     "output_type": "display_data"
    },
    {
     "name": "stdout",
     "output_type": "stream",
     "text": [
      "\n",
      "\n"
     ]
    }
   ],
   "source": [
    "## Test the function\n",
    "for inp1 in ['0', '1']:\n",
    "    for inp2 in ['0', '1']:\n",
    "        qc, output = XOR(inp1, inp2)\n",
    "        print('XOR with inputs',inp1,inp2,'gives output',output)\n",
    "        display(qc.draw())\n",
    "        print('\\n')"
   ]
  },
  {
   "cell_type": "markdown",
   "metadata": {},
   "source": [
    "### AND gate\n",
    "Takes two binary strings as input and gives one as output.\n",
    "\n",
    "The output is '1' only when both the inputs are '1'."
   ]
  },
  {
   "cell_type": "code",
   "execution_count": 26,
   "metadata": {},
   "outputs": [],
   "source": [
    "def AND(inp1,inp2):\n",
    "    \"\"\"An AND gate.\n",
    "    \n",
    "    Parameters:\n",
    "        inpt1 (str): Input 1, encoded in qubit 0.\n",
    "        inpt2 (str): Input 2, encoded in qubit 1.\n",
    "        \n",
    "    Returns:\n",
    "        QuantumCircuit: Output XOR circuit.\n",
    "        str: Output value measured from qubit 2.\n",
    "    \"\"\"\n",
    "    qc = QuantumCircuit(3, 1) \n",
    "    qc.reset(range(2))\n",
    "  \n",
    "    if inp1=='1':\n",
    "        qc.x(0)\n",
    "    if inp2=='1':\n",
    "        qc.x(1)\n",
    "        \n",
    "    qc.barrier()\n",
    "\n",
    "    # this is where your program for quantum AND gate goes\n",
    "    # Do an x to rotate the helper qubit from 0 to 1 if both circuit are 1 \n",
    "    qc.ccx(0, 1, 2)\n",
    "\n",
    "    qc.barrier()\n",
    "    qc.measure(2, 0) # output from qubit 2 is measured\n",
    "  \n",
    "    # We'll run the program on a simulator\n",
    "    backend = Aer.get_backend('aer_simulator')\n",
    "    # Since the output will be deterministic, we can use just a single shot to get it\n",
    "    job = backend.run(qc, shots=1, memory=True)\n",
    "    output = job.result().get_memory()[0]\n",
    "  \n",
    "    return qc, output"
   ]
  },
  {
   "cell_type": "code",
   "execution_count": 27,
   "metadata": {},
   "outputs": [
    {
     "name": "stdout",
     "output_type": "stream",
     "text": [
      "AND with inputs 0 0 gives output 0\n"
     ]
    },
    {
     "data": {
      "text/html": [
       "<pre style=\"word-wrap: normal;white-space: pre;background: #fff0;line-height: 1.1;font-family: &quot;Courier New&quot;,Courier,monospace\">           ░       ░    \n",
       "q_0: ─|0>──░───■───░────\n",
       "           ░   │   ░    \n",
       "q_1: ─|0>──░───■───░────\n",
       "           ░ ┌─┴─┐ ░ ┌─┐\n",
       "q_2: ──────░─┤ X ├─░─┤M├\n",
       "           ░ └───┘ ░ └╥┘\n",
       "c: 1/═════════════════╩═\n",
       "                      0 </pre>"
      ],
      "text/plain": [
       "           ░       ░    \n",
       "q_0: ─|0>──░───■───░────\n",
       "           ░   │   ░    \n",
       "q_1: ─|0>──░───■───░────\n",
       "           ░ ┌─┴─┐ ░ ┌─┐\n",
       "q_2: ──────░─┤ X ├─░─┤M├\n",
       "           ░ └───┘ ░ └╥┘\n",
       "c: 1/═════════════════╩═\n",
       "                      0 "
      ]
     },
     "metadata": {},
     "output_type": "display_data"
    },
    {
     "name": "stdout",
     "output_type": "stream",
     "text": [
      "\n",
      "\n",
      "AND with inputs 0 1 gives output 0\n"
     ]
    },
    {
     "data": {
      "text/html": [
       "<pre style=\"word-wrap: normal;white-space: pre;background: #fff0;line-height: 1.1;font-family: &quot;Courier New&quot;,Courier,monospace\">                ░       ░    \n",
       "q_0: ─|0>───────░───■───░────\n",
       "          ┌───┐ ░   │   ░    \n",
       "q_1: ─|0>─┤ X ├─░───■───░────\n",
       "          └───┘ ░ ┌─┴─┐ ░ ┌─┐\n",
       "q_2: ───────────░─┤ X ├─░─┤M├\n",
       "                ░ └───┘ ░ └╥┘\n",
       "c: 1/══════════════════════╩═\n",
       "                           0 </pre>"
      ],
      "text/plain": [
       "                ░       ░    \n",
       "q_0: ─|0>───────░───■───░────\n",
       "          ┌───┐ ░   │   ░    \n",
       "q_1: ─|0>─┤ X ├─░───■───░────\n",
       "          └───┘ ░ ┌─┴─┐ ░ ┌─┐\n",
       "q_2: ───────────░─┤ X ├─░─┤M├\n",
       "                ░ └───┘ ░ └╥┘\n",
       "c: 1/══════════════════════╩═\n",
       "                           0 "
      ]
     },
     "metadata": {},
     "output_type": "display_data"
    },
    {
     "name": "stdout",
     "output_type": "stream",
     "text": [
      "\n",
      "\n",
      "AND with inputs 1 0 gives output 0\n"
     ]
    },
    {
     "data": {
      "text/html": [
       "<pre style=\"word-wrap: normal;white-space: pre;background: #fff0;line-height: 1.1;font-family: &quot;Courier New&quot;,Courier,monospace\">          ┌───┐ ░       ░    \n",
       "q_0: ─|0>─┤ X ├─░───■───░────\n",
       "          └───┘ ░   │   ░    \n",
       "q_1: ─|0>───────░───■───░────\n",
       "                ░ ┌─┴─┐ ░ ┌─┐\n",
       "q_2: ───────────░─┤ X ├─░─┤M├\n",
       "                ░ └───┘ ░ └╥┘\n",
       "c: 1/══════════════════════╩═\n",
       "                           0 </pre>"
      ],
      "text/plain": [
       "          ┌───┐ ░       ░    \n",
       "q_0: ─|0>─┤ X ├─░───■───░────\n",
       "          └───┘ ░   │   ░    \n",
       "q_1: ─|0>───────░───■───░────\n",
       "                ░ ┌─┴─┐ ░ ┌─┐\n",
       "q_2: ───────────░─┤ X ├─░─┤M├\n",
       "                ░ └───┘ ░ └╥┘\n",
       "c: 1/══════════════════════╩═\n",
       "                           0 "
      ]
     },
     "metadata": {},
     "output_type": "display_data"
    },
    {
     "name": "stdout",
     "output_type": "stream",
     "text": [
      "\n",
      "\n",
      "AND with inputs 1 1 gives output 1\n"
     ]
    },
    {
     "data": {
      "text/html": [
       "<pre style=\"word-wrap: normal;white-space: pre;background: #fff0;line-height: 1.1;font-family: &quot;Courier New&quot;,Courier,monospace\">          ┌───┐ ░       ░    \n",
       "q_0: ─|0>─┤ X ├─░───■───░────\n",
       "          ├───┤ ░   │   ░    \n",
       "q_1: ─|0>─┤ X ├─░───■───░────\n",
       "          └───┘ ░ ┌─┴─┐ ░ ┌─┐\n",
       "q_2: ───────────░─┤ X ├─░─┤M├\n",
       "                ░ └───┘ ░ └╥┘\n",
       "c: 1/══════════════════════╩═\n",
       "                           0 </pre>"
      ],
      "text/plain": [
       "          ┌───┐ ░       ░    \n",
       "q_0: ─|0>─┤ X ├─░───■───░────\n",
       "          ├───┤ ░   │   ░    \n",
       "q_1: ─|0>─┤ X ├─░───■───░────\n",
       "          └───┘ ░ ┌─┴─┐ ░ ┌─┐\n",
       "q_2: ───────────░─┤ X ├─░─┤M├\n",
       "                ░ └───┘ ░ └╥┘\n",
       "c: 1/══════════════════════╩═\n",
       "                           0 "
      ]
     },
     "metadata": {},
     "output_type": "display_data"
    },
    {
     "name": "stdout",
     "output_type": "stream",
     "text": [
      "\n",
      "\n"
     ]
    }
   ],
   "source": [
    "## Test the function\n",
    "for inp1 in ['0', '1']:\n",
    "    for inp2 in ['0', '1']:\n",
    "        qc, output = AND(inp1, inp2)\n",
    "        print('AND with inputs',inp1,inp2,'gives output',output)\n",
    "        display(qc.draw())\n",
    "        print('\\n')"
   ]
  },
  {
   "cell_type": "markdown",
   "metadata": {},
   "source": [
    "### NAND gate\n",
    "Takes two binary strings as input and gives one as output.\n",
    "\n",
    "The output is '0' only when both the inputs are '1'."
   ]
  },
  {
   "cell_type": "code",
   "execution_count": 30,
   "metadata": {},
   "outputs": [],
   "source": [
    "def NAND(inp1,inp2):\n",
    "    \"\"\"An NAND gate.\n",
    "    \n",
    "    Parameters:\n",
    "        inpt1 (str): Input 1, encoded in qubit 0.\n",
    "        inpt2 (str): Input 2, encoded in qubit 1.\n",
    "        \n",
    "    Returns:\n",
    "        QuantumCircuit: Output NAND circuit.\n",
    "        str: Output value measured from qubit 2.\n",
    "    \"\"\"\n",
    "    qc = QuantumCircuit(3, 1) \n",
    "    qc.reset(range(3))\n",
    "    \n",
    "    if inp1=='1':\n",
    "        qc.x(0)\n",
    "    if inp2=='1':\n",
    "        qc.x(1)\n",
    "    \n",
    "    qc.barrier()\n",
    "    \n",
    "    # this is where your program for quantum NAND gate goes\n",
    "    # Do an x to rotate the helper qubit from 0 to 1 if both circuit are not 1\n",
    "    qc.ccx(0, 1, 2)\n",
    "    qc.x(2)\n",
    "    \n",
    "    qc.barrier()\n",
    "    qc.measure(2, 0) # output from qubit 2 is measured\n",
    "  \n",
    "    # We'll run the program on a simulator\n",
    "    backend = Aer.get_backend('aer_simulator')\n",
    "    # Since the output will be deterministic, we can use just a single shot to get it\n",
    "    job = backend.run(qc,shots=1,memory=True)\n",
    "    output = job.result().get_memory()[0]\n",
    "  \n",
    "    return qc, output"
   ]
  },
  {
   "cell_type": "code",
   "execution_count": 31,
   "metadata": {},
   "outputs": [
    {
     "name": "stdout",
     "output_type": "stream",
     "text": [
      "NAND with inputs 0 0 gives output 1\n"
     ]
    },
    {
     "data": {
      "text/html": [
       "<pre style=\"word-wrap: normal;white-space: pre;background: #fff0;line-height: 1.1;font-family: &quot;Courier New&quot;,Courier,monospace\">           ░            ░    \n",
       "q_0: ─|0>──░───■────────░────\n",
       "           ░   │        ░    \n",
       "q_1: ─|0>──░───■────────░────\n",
       "           ░ ┌─┴─┐┌───┐ ░ ┌─┐\n",
       "q_2: ─|0>──░─┤ X ├┤ X ├─░─┤M├\n",
       "           ░ └───┘└───┘ ░ └╥┘\n",
       "c: 1/══════════════════════╩═\n",
       "                           0 </pre>"
      ],
      "text/plain": [
       "           ░            ░    \n",
       "q_0: ─|0>──░───■────────░────\n",
       "           ░   │        ░    \n",
       "q_1: ─|0>──░───■────────░────\n",
       "           ░ ┌─┴─┐┌───┐ ░ ┌─┐\n",
       "q_2: ─|0>──░─┤ X ├┤ X ├─░─┤M├\n",
       "           ░ └───┘└───┘ ░ └╥┘\n",
       "c: 1/══════════════════════╩═\n",
       "                           0 "
      ]
     },
     "metadata": {},
     "output_type": "display_data"
    },
    {
     "name": "stdout",
     "output_type": "stream",
     "text": [
      "\n",
      "\n",
      "NAND with inputs 0 1 gives output 1\n"
     ]
    },
    {
     "data": {
      "text/html": [
       "<pre style=\"word-wrap: normal;white-space: pre;background: #fff0;line-height: 1.1;font-family: &quot;Courier New&quot;,Courier,monospace\">                ░            ░    \n",
       "q_0: ─|0>───────░───■────────░────\n",
       "          ┌───┐ ░   │        ░    \n",
       "q_1: ─|0>─┤ X ├─░───■────────░────\n",
       "          └───┘ ░ ┌─┴─┐┌───┐ ░ ┌─┐\n",
       "q_2: ─|0>───────░─┤ X ├┤ X ├─░─┤M├\n",
       "                ░ └───┘└───┘ ░ └╥┘\n",
       "c: 1/═══════════════════════════╩═\n",
       "                                0 </pre>"
      ],
      "text/plain": [
       "                ░            ░    \n",
       "q_0: ─|0>───────░───■────────░────\n",
       "          ┌───┐ ░   │        ░    \n",
       "q_1: ─|0>─┤ X ├─░───■────────░────\n",
       "          └───┘ ░ ┌─┴─┐┌───┐ ░ ┌─┐\n",
       "q_2: ─|0>───────░─┤ X ├┤ X ├─░─┤M├\n",
       "                ░ └───┘└───┘ ░ └╥┘\n",
       "c: 1/═══════════════════════════╩═\n",
       "                                0 "
      ]
     },
     "metadata": {},
     "output_type": "display_data"
    },
    {
     "name": "stdout",
     "output_type": "stream",
     "text": [
      "\n",
      "\n",
      "NAND with inputs 1 0 gives output 1\n"
     ]
    },
    {
     "data": {
      "text/html": [
       "<pre style=\"word-wrap: normal;white-space: pre;background: #fff0;line-height: 1.1;font-family: &quot;Courier New&quot;,Courier,monospace\">          ┌───┐ ░            ░    \n",
       "q_0: ─|0>─┤ X ├─░───■────────░────\n",
       "          └───┘ ░   │        ░    \n",
       "q_1: ─|0>───────░───■────────░────\n",
       "                ░ ┌─┴─┐┌───┐ ░ ┌─┐\n",
       "q_2: ─|0>───────░─┤ X ├┤ X ├─░─┤M├\n",
       "                ░ └───┘└───┘ ░ └╥┘\n",
       "c: 1/═══════════════════════════╩═\n",
       "                                0 </pre>"
      ],
      "text/plain": [
       "          ┌───┐ ░            ░    \n",
       "q_0: ─|0>─┤ X ├─░───■────────░────\n",
       "          └───┘ ░   │        ░    \n",
       "q_1: ─|0>───────░───■────────░────\n",
       "                ░ ┌─┴─┐┌───┐ ░ ┌─┐\n",
       "q_2: ─|0>───────░─┤ X ├┤ X ├─░─┤M├\n",
       "                ░ └───┘└───┘ ░ └╥┘\n",
       "c: 1/═══════════════════════════╩═\n",
       "                                0 "
      ]
     },
     "metadata": {},
     "output_type": "display_data"
    },
    {
     "name": "stdout",
     "output_type": "stream",
     "text": [
      "\n",
      "\n",
      "NAND with inputs 1 1 gives output 0\n"
     ]
    },
    {
     "data": {
      "text/html": [
       "<pre style=\"word-wrap: normal;white-space: pre;background: #fff0;line-height: 1.1;font-family: &quot;Courier New&quot;,Courier,monospace\">          ┌───┐ ░            ░    \n",
       "q_0: ─|0>─┤ X ├─░───■────────░────\n",
       "          ├───┤ ░   │        ░    \n",
       "q_1: ─|0>─┤ X ├─░───■────────░────\n",
       "          └───┘ ░ ┌─┴─┐┌───┐ ░ ┌─┐\n",
       "q_2: ─|0>───────░─┤ X ├┤ X ├─░─┤M├\n",
       "                ░ └───┘└───┘ ░ └╥┘\n",
       "c: 1/═══════════════════════════╩═\n",
       "                                0 </pre>"
      ],
      "text/plain": [
       "          ┌───┐ ░            ░    \n",
       "q_0: ─|0>─┤ X ├─░───■────────░────\n",
       "          ├───┤ ░   │        ░    \n",
       "q_1: ─|0>─┤ X ├─░───■────────░────\n",
       "          └───┘ ░ ┌─┴─┐┌───┐ ░ ┌─┐\n",
       "q_2: ─|0>───────░─┤ X ├┤ X ├─░─┤M├\n",
       "                ░ └───┘└───┘ ░ └╥┘\n",
       "c: 1/═══════════════════════════╩═\n",
       "                                0 "
      ]
     },
     "metadata": {},
     "output_type": "display_data"
    },
    {
     "name": "stdout",
     "output_type": "stream",
     "text": [
      "\n",
      "\n"
     ]
    }
   ],
   "source": [
    "## Test the function\n",
    "for inp1 in ['0', '1']:\n",
    "    for inp2 in ['0', '1']:\n",
    "        qc, output = NAND(inp1, inp2)\n",
    "        print('NAND with inputs',inp1,inp2,'gives output',output)\n",
    "        display(qc.draw())\n",
    "        print('\\n')"
   ]
  },
  {
   "cell_type": "markdown",
   "metadata": {},
   "source": [
    "### OR gate\n",
    "Takes two binary strings as input and gives one as output.\n",
    "\n",
    "The output is '1' if either input is '1'."
   ]
  },
  {
   "cell_type": "code",
   "execution_count": 48,
   "metadata": {},
   "outputs": [],
   "source": [
    "def OR(inp1,inp2):\n",
    "    \"\"\"An OR gate.\n",
    "    \n",
    "    Parameters:\n",
    "        inpt1 (str): Input 1, encoded in qubit 0.\n",
    "        inpt2 (str): Input 2, encoded in qubit 1.\n",
    "        \n",
    "    Returns:\n",
    "        QuantumCircuit: Output XOR circuit.\n",
    "        str: Output value measured from qubit 2.\n",
    "    \"\"\"\n",
    "\n",
    "    qc = QuantumCircuit(3, 1) \n",
    "    qc.reset(range(3))\n",
    "    \n",
    "    if inp1=='1':\n",
    "        qc.x(0)\n",
    "    if inp2=='1':\n",
    "        qc.x(1)\n",
    "    \n",
    "    qc.barrier()\n",
    "   \n",
    "    # this is where your program for quantum OR gate goes\n",
    "    # Do an x to rotate the helper qubit from 0 to 1 if either qubit is 1\n",
    "    qc.x(0)\n",
    "    qc.x(1)\n",
    "    qc.ccx(0, 1, 2)\n",
    "    qc.x(2)\n",
    "\n",
    "    qc.barrier()\n",
    "    qc.measure(2, 0) # output from qubit 2 is measured\n",
    "  \n",
    "    # We'll run the program on a simulator\n",
    "    backend = Aer.get_backend('aer_simulator')\n",
    "    # Since the output will be deterministic, we can use just a single shot to get it\n",
    "    job = backend.run(qc,shots=1,memory=True)\n",
    "    output = job.result().get_memory()[0]\n",
    "  \n",
    "    return qc, output"
   ]
  },
  {
   "cell_type": "code",
   "execution_count": 49,
   "metadata": {},
   "outputs": [
    {
     "name": "stdout",
     "output_type": "stream",
     "text": [
      "OR with inputs 0 0 gives output 0\n"
     ]
    },
    {
     "data": {
      "text/html": [
       "<pre style=\"word-wrap: normal;white-space: pre;background: #fff0;line-height: 1.1;font-family: &quot;Courier New&quot;,Courier,monospace\">           ░                 ░    \n",
       "q_0: ─|0>──░───■─────────■───░────\n",
       "           ░   │       ┌─┴─┐ ░    \n",
       "q_1: ─|0>──░───┼────■──┤ X ├─░────\n",
       "           ░ ┌─┴─┐┌─┴─┐└───┘ ░ ┌─┐\n",
       "q_2: ─|0>──░─┤ X ├┤ X ├──────░─┤M├\n",
       "           ░ └───┘└───┘      ░ └╥┘\n",
       "c: 1/═══════════════════════════╩═\n",
       "                                0 </pre>"
      ],
      "text/plain": [
       "           ░                 ░    \n",
       "q_0: ─|0>──░───■─────────■───░────\n",
       "           ░   │       ┌─┴─┐ ░    \n",
       "q_1: ─|0>──░───┼────■──┤ X ├─░────\n",
       "           ░ ┌─┴─┐┌─┴─┐└───┘ ░ ┌─┐\n",
       "q_2: ─|0>──░─┤ X ├┤ X ├──────░─┤M├\n",
       "           ░ └───┘└───┘      ░ └╥┘\n",
       "c: 1/═══════════════════════════╩═\n",
       "                                0 "
      ]
     },
     "metadata": {},
     "output_type": "display_data"
    },
    {
     "name": "stdout",
     "output_type": "stream",
     "text": [
      "\n",
      "\n",
      "OR with inputs 0 1 gives output 1\n"
     ]
    },
    {
     "data": {
      "text/html": [
       "<pre style=\"word-wrap: normal;white-space: pre;background: #fff0;line-height: 1.1;font-family: &quot;Courier New&quot;,Courier,monospace\">                ░                 ░    \n",
       "q_0: ─|0>───────░───■─────────■───░────\n",
       "          ┌───┐ ░   │       ┌─┴─┐ ░    \n",
       "q_1: ─|0>─┤ X ├─░───┼────■──┤ X ├─░────\n",
       "          └───┘ ░ ┌─┴─┐┌─┴─┐└───┘ ░ ┌─┐\n",
       "q_2: ─|0>───────░─┤ X ├┤ X ├──────░─┤M├\n",
       "                ░ └───┘└───┘      ░ └╥┘\n",
       "c: 1/════════════════════════════════╩═\n",
       "                                     0 </pre>"
      ],
      "text/plain": [
       "                ░                 ░    \n",
       "q_0: ─|0>───────░───■─────────■───░────\n",
       "          ┌───┐ ░   │       ┌─┴─┐ ░    \n",
       "q_1: ─|0>─┤ X ├─░───┼────■──┤ X ├─░────\n",
       "          └───┘ ░ ┌─┴─┐┌─┴─┐└───┘ ░ ┌─┐\n",
       "q_2: ─|0>───────░─┤ X ├┤ X ├──────░─┤M├\n",
       "                ░ └───┘└───┘      ░ └╥┘\n",
       "c: 1/════════════════════════════════╩═\n",
       "                                     0 "
      ]
     },
     "metadata": {},
     "output_type": "display_data"
    },
    {
     "name": "stdout",
     "output_type": "stream",
     "text": [
      "\n",
      "\n",
      "OR with inputs 1 0 gives output 1\n"
     ]
    },
    {
     "data": {
      "text/html": [
       "<pre style=\"word-wrap: normal;white-space: pre;background: #fff0;line-height: 1.1;font-family: &quot;Courier New&quot;,Courier,monospace\">          ┌───┐ ░                 ░    \n",
       "q_0: ─|0>─┤ X ├─░───■─────────■───░────\n",
       "          └───┘ ░   │       ┌─┴─┐ ░    \n",
       "q_1: ─|0>───────░───┼────■──┤ X ├─░────\n",
       "                ░ ┌─┴─┐┌─┴─┐└───┘ ░ ┌─┐\n",
       "q_2: ─|0>───────░─┤ X ├┤ X ├──────░─┤M├\n",
       "                ░ └───┘└───┘      ░ └╥┘\n",
       "c: 1/════════════════════════════════╩═\n",
       "                                     0 </pre>"
      ],
      "text/plain": [
       "          ┌───┐ ░                 ░    \n",
       "q_0: ─|0>─┤ X ├─░───■─────────■───░────\n",
       "          └───┘ ░   │       ┌─┴─┐ ░    \n",
       "q_1: ─|0>───────░───┼────■──┤ X ├─░────\n",
       "                ░ ┌─┴─┐┌─┴─┐└───┘ ░ ┌─┐\n",
       "q_2: ─|0>───────░─┤ X ├┤ X ├──────░─┤M├\n",
       "                ░ └───┘└───┘      ░ └╥┘\n",
       "c: 1/════════════════════════════════╩═\n",
       "                                     0 "
      ]
     },
     "metadata": {},
     "output_type": "display_data"
    },
    {
     "name": "stdout",
     "output_type": "stream",
     "text": [
      "\n",
      "\n",
      "OR with inputs 1 1 gives output 0\n"
     ]
    },
    {
     "data": {
      "text/html": [
       "<pre style=\"word-wrap: normal;white-space: pre;background: #fff0;line-height: 1.1;font-family: &quot;Courier New&quot;,Courier,monospace\">          ┌───┐ ░                 ░    \n",
       "q_0: ─|0>─┤ X ├─░───■─────────■───░────\n",
       "          ├───┤ ░   │       ┌─┴─┐ ░    \n",
       "q_1: ─|0>─┤ X ├─░───┼────■──┤ X ├─░────\n",
       "          └───┘ ░ ┌─┴─┐┌─┴─┐└───┘ ░ ┌─┐\n",
       "q_2: ─|0>───────░─┤ X ├┤ X ├──────░─┤M├\n",
       "                ░ └───┘└───┘      ░ └╥┘\n",
       "c: 1/════════════════════════════════╩═\n",
       "                                     0 </pre>"
      ],
      "text/plain": [
       "          ┌───┐ ░                 ░    \n",
       "q_0: ─|0>─┤ X ├─░───■─────────■───░────\n",
       "          ├───┤ ░   │       ┌─┴─┐ ░    \n",
       "q_1: ─|0>─┤ X ├─░───┼────■──┤ X ├─░────\n",
       "          └───┘ ░ ┌─┴─┐┌─┴─┐└───┘ ░ ┌─┐\n",
       "q_2: ─|0>───────░─┤ X ├┤ X ├──────░─┤M├\n",
       "                ░ └───┘└───┘      ░ └╥┘\n",
       "c: 1/════════════════════════════════╩═\n",
       "                                     0 "
      ]
     },
     "metadata": {},
     "output_type": "display_data"
    },
    {
     "name": "stdout",
     "output_type": "stream",
     "text": [
      "\n",
      "\n"
     ]
    }
   ],
   "source": [
    "## Test the function\n",
    "for inp1 in ['0', '1']:\n",
    "    for inp2 in ['0', '1']:\n",
    "        qc, output = OR(inp1, inp2)\n",
    "        print('OR with inputs',inp1,inp2,'gives output',output)\n",
    "        display(qc.draw())\n",
    "        print('\\n')"
   ]
  },
  {
   "cell_type": "markdown",
   "metadata": {},
   "source": [
    "## Part 2: AND gate on Quantum Computer\n",
    "#### Goal\n",
    "\n",
    "Execute AND gate on a real quantum system and learn how the noise properties affect the result.\n",
    "\n",
    "In Part 1 you made an AND gate from quantum gates, and executed it on the simulator. Here in Part 2 you will do it again, but instead run the circuits on a real quantum computer. When using a real quantum system, one thing you should keep in mind is that present day quantum computers are not fault tolerant; they are noisy.\n",
    "\n",
    "The 'noise' in a quantum system is the collective effects of all the things that should not happen, but nevertheless do. Noise results in outputs are not always what we would expect. There is noise associated with all processes in a quantum circuit: preparing the initial state, applying gates, and qubit measurement. For the gates, noise levels can vary between different gates and between different qubits. cx gates are typically more noisy than any single qubit gate.\n",
    "\n",
    "Here we will use the quantum systems from the IBM Quantum Experience. If you do not have access, you can do so here.\n",
    "\n",
    "Now that you are ready to use the real quantum computer, let's begin.\n",
    "\n"
   ]
  },
  {
   "cell_type": "markdown",
   "metadata": {},
   "source": [
    "### Step 1. Choosing a device\n",
    "First load the account from the credentials saved on disk by running the following cell:"
   ]
  },
  {
   "cell_type": "code",
   "execution_count": 18,
   "metadata": {},
   "outputs": [
    {
     "name": "stderr",
     "output_type": "stream",
     "text": [
      "ibmqfactory.load_account:WARNING:2023-11-06 22:27:22,661: Credentials are already in use. The existing account in the session will be replaced.\n"
     ]
    },
    {
     "data": {
      "text/plain": [
       "<AccountProvider for IBMQ(hub='ibm-q', group='open', project='main')>"
      ]
     },
     "execution_count": 18,
     "metadata": {},
     "output_type": "execute_result"
    }
   ],
   "source": [
    "IBMQ.save_account('7c0c70e2ca9db2970053cad453bdc4630863f74e367d011c685043984a08ce7f323aaa1d391d7be6861ccaecd43a5132911819adeedbc77f5a0eaba23e3005a6')\n",
    "IBMQ.load_account()"
   ]
  },
  {
   "cell_type": "code",
   "execution_count": 20,
   "metadata": {},
   "outputs": [],
   "source": [
    "def AND(inp1, inp2, backend, layout):\n",
    "    \n",
    "    qc = QuantumCircuit(3, 1) \n",
    "    qc.reset(range(3))\n",
    "    \n",
    "    if inp1=='1':\n",
    "        qc.x(0)\n",
    "    if inp2=='1':\n",
    "        qc.x(1)\n",
    "        \n",
    "    qc.barrier()\n",
    "    qc.ccx(0, 1, 2) \n",
    "    qc.barrier()\n",
    "    qc.measure(2, 0) \n",
    "  \n",
    "    qc_trans = transpile(qc, backend, initial_layout=layout, optimization_level=3)\n",
    "    job = backend.run(qc_trans, shots=8192)\n",
    "    print(job.job_id())\n",
    "    job_monitor(job)\n",
    "    \n",
    "    output = job.result().get_counts()\n",
    "    \n",
    "    return qc_trans, output"
   ]
  },
  {
   "cell_type": "code",
   "execution_count": null,
   "metadata": {},
   "outputs": [],
   "source": [
    "def TASK(inp1, inp2, inp3, backend, layout):\n",
    "    \n",
    "    qc = QuantumCircuit(5, 1) \n",
    "    qc.reset(range(5))\n",
    "    \n",
    "    if inp1=='1':\n",
    "        qc.x(0)\n",
    "    if inp2=='1':\n",
    "        qc.x(1)\n",
    "    if inp3=='1':\n",
    "        qc.x(2)\n",
    "        \n",
    "    qc.barrier()\n",
    "    # x AND y\n",
    "    qc.ccx(0, 1, 3)\n",
    "    \n",
    "    # (x AND y) OR z\n",
    "    qc.x(2)\n",
    "    qc.x(3)\n",
    "    qc.ccx(2, 3, 4)\n",
    "    qc.x(4)\n",
    "    \n",
    "    qc.barrier()\n",
    "    qc.measure(4, 0) \n",
    "  \n",
    "    qc_trans = transpile(qc, backend, initial_layout=layout, optimization_level=3)\n",
    "    job = backend.run(qc_trans, shots=8192)\n",
    "    print(job.job_id())\n",
    "    job_monitor(job)\n",
    "    \n",
    "    output = job.result().get_counts()\n",
    "    \n",
    "    return qc_trans, output\n",
    "\n",
    "layout = []"
   ]
  },
  {
   "cell_type": "markdown",
   "metadata": {},
   "source": [
    "After your account is loaded, you can see the list of providers that you have access to by running the cell below. Each provider offers different systems for use. For open users, there is typically only one provider `ibm-q/open/main`:"
   ]
  },
  {
   "cell_type": "code",
   "execution_count": 21,
   "metadata": {},
   "outputs": [
    {
     "data": {
      "text/plain": [
       "[<AccountProvider for IBMQ(hub='ibm-q', group='open', project='main')>]"
      ]
     },
     "execution_count": 21,
     "metadata": {},
     "output_type": "execute_result"
    }
   ],
   "source": [
    "IBMQ.providers()"
   ]
  },
  {
   "cell_type": "markdown",
   "metadata": {},
   "source": [
    "Let us grab the provider using get_provider. The command, provider.backends( ) shows you the list of backends that are available to you from the selected provider."
   ]
  },
  {
   "cell_type": "code",
   "execution_count": 22,
   "metadata": {},
   "outputs": [
    {
     "data": {
      "text/plain": [
       "[<IBMQSimulator('ibmq_qasm_simulator') from IBMQ(hub='ibm-q', group='open', project='main')>,\n",
       " <IBMQSimulator('simulator_statevector') from IBMQ(hub='ibm-q', group='open', project='main')>,\n",
       " <IBMQSimulator('simulator_mps') from IBMQ(hub='ibm-q', group='open', project='main')>,\n",
       " <IBMQSimulator('simulator_extended_stabilizer') from IBMQ(hub='ibm-q', group='open', project='main')>,\n",
       " <IBMQSimulator('simulator_stabilizer') from IBMQ(hub='ibm-q', group='open', project='main')>,\n",
       " <IBMQBackend('ibm_lagos') from IBMQ(hub='ibm-q', group='open', project='main')>,\n",
       " <IBMQBackend('ibm_nairobi') from IBMQ(hub='ibm-q', group='open', project='main')>,\n",
       " <IBMQBackend('ibm_perth') from IBMQ(hub='ibm-q', group='open', project='main')>,\n",
       " <IBMQBackend('ibm_brisbane') from IBMQ(hub='ibm-q', group='open', project='main')>]"
      ]
     },
     "execution_count": 22,
     "metadata": {},
     "output_type": "execute_result"
    }
   ],
   "source": [
    "provider = IBMQ.get_provider('ibm-q')\n",
    "provider.backends()"
   ]
  },
  {
   "cell_type": "markdown",
   "metadata": {},
   "source": [
    "Among these options, you may pick one of the systems to run your circuits on. All except the ibmq_qasm_simulator all are real quantum computers that you can use. The differences among these systems resides in the number of qubits, their connectivity, and the system error rates.\n",
    "\n",
    "Upon executing the following cell you will be presented with a widget that displays all of the information about your choice of the backend. You can obtain information that you need by clicking on the tabs. For example, backend status, number of qubits and the connectivity are under configuration tab, where as the Error Map tab will reveal the latest noise information for the system."
   ]
  },
  {
   "cell_type": "code",
   "execution_count": 1,
   "metadata": {},
   "outputs": [],
   "source": [
    "import qiskit.tools.jupyter"
   ]
  },
  {
   "cell_type": "code",
   "execution_count": null,
   "metadata": {},
   "outputs": [],
   "source": [
    "backend_ex = provider.get_backend('ibm_nairobi')\n",
    "backend_ex"
   ]
  }
 ],
 "metadata": {
  "kernelspec": {
   "display_name": "Python 3",
   "language": "python",
   "name": "python3"
  },
  "language_info": {
   "codemirror_mode": {
    "name": "ipython",
    "version": 3
   },
   "file_extension": ".py",
   "mimetype": "text/x-python",
   "name": "python",
   "nbconvert_exporter": "python",
   "pygments_lexer": "ipython3",
   "version": "3.8.5"
  }
 },
 "nbformat": 4,
 "nbformat_minor": 4
}
