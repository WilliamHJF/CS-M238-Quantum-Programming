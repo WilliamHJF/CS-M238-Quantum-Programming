{
 "cells": [
  {
   "cell_type": "code",
   "execution_count": 1,
   "metadata": {},
   "outputs": [],
   "source": [
    "'''\n",
    "A function for the Max2SAT problem\n",
    "\n",
    ":param t: the number of clauses that the case needs to satisfy\n",
    ":param formula: a set of clauses and each clause has two variables from the set x0,...,x(n-1)\n",
    "                since we can't write -0 to represent negate x0, so we will use -n to represent negate x0. \n",
    "                For example, [3, -7]: \"x3 OR negate x0\" \n",
    ":param n: the number of variables that the formula uses\n",
    ":return: 1 if there exists a Booleans list that satifies at least t of the clauses, and 0 otherwise\n",
    "'''\n",
    "def Max2SAT(t, formula, n):\n",
    "    #Run satisfy function with all the possible boolean combination as input\n",
    "    for x in range(2 ** n):\n",
    "        # Generate the possible boolean combination \n",
    "        bitString = bin(x)[2:].zfill(n)\n",
    "        \n",
    "        # Convert the bitString into a int list boolean\n",
    "        boolean = []\n",
    "        for letter in bitString:\n",
    "            if letter == '0':\n",
    "                boolean.append(-1)\n",
    "            else:\n",
    "                boolean.append(1)\n",
    "        \n",
    "        # Run satisfy function to check if this boolean set satifies at least t of the clauses\n",
    "        if(satisfy(t, formula, boolean, n)):\n",
    "            return 1\n",
    "    \n",
    "    return 0"
   ]
  },
  {
   "cell_type": "code",
   "execution_count": 2,
   "metadata": {},
   "outputs": [],
   "source": [
    "'''\n",
    "A function that check if a given boolean satifies at leat t of the clause\n",
    "\n",
    ":param t: the number of clauses that the case needs to satisfy\n",
    ":param formula: a set of clauses and each clause has two variables from the set x0,...,x(n-1)\n",
    "                since we can't write -0 to represent negate x0, so we will use -n to represent negate x0. \n",
    "                For example, [3, -7]: \"x3 OR negate x0\" \n",
    ":param boolean: a list of size n. It has the value of either 1 or -1. -1 means False, 1 means True. \n",
    "                We use it to range over mappings from variables to Booleans. \n",
    "                For example, [x0, x1, x2, x3, x4, x5, x6] = [-1, -1, -1, -1, -1, -1, -1]\n",
    ":param n: the number of variables that the formula uses\n",
    ":return: 1 if the input boolean list that satifies at least t of the clauses, and 0 otherwise\n",
    "'''\n",
    "def satisfy(t, formula, boolean, n):\n",
    "    count = 0 # Count the number of satified clauses\n",
    "    satisfied = []\n",
    "    #print(boolean)\n",
    "    for clause in formula:\n",
    "        literal1 = clause[0]\n",
    "        literal2 = clause[1]\n",
    "        \n",
    "        # Getting the index of the literal for the boolean list\n",
    "        # If literal = n, it mean it represents x0\n",
    "        if(abs(literal1) == n):\n",
    "            index1 = 0\n",
    "        else:\n",
    "            index1 = abs(literal1)\n",
    "        if(abs(literal2) == n):\n",
    "            index2 = 0\n",
    "        else:\n",
    "            index2 = abs(literal2)\n",
    "\n",
    "        # Check if at least one of the literal is satified\n",
    "        # When the signs of the literal and boolean value matches, it means the clause is True. \n",
    "        if(boolean[index1] * literal1 > 0 or boolean[index2] * literal2 > 0):\n",
    "            satisfied.append(clause)\n",
    "            count += 1\n",
    "    \n",
    "    if(count >= t):\n",
    "        print(\"The satisfied clauses are: \", satisfied)\n",
    "        print(\"There exists a Z:\", boolean, \"that satifies\", count, \"out of\", len(formula), \"clauses\")\n",
    "        return 1\n",
    "    else:\n",
    "        return 0"
   ]
  },
  {
   "cell_type": "code",
   "execution_count": 3,
   "metadata": {},
   "outputs": [
    {
     "name": "stdout",
     "output_type": "stream",
     "text": [
      "Test1:\n",
      "Output: 0 \n",
      "\n",
      "Test2:\n",
      "The satisfied clauses are:  [[1, 2], [2, -5], [-3, -4], [2, -6], [-3, -5], [3, -4], [-4, 5], [3, -7]]\n",
      "There exists a Z: [-1, 1, -1, -1, -1, -1, -1] that satifies 8 out of 9 clauses\n",
      "Output: 1\n"
     ]
    }
   ],
   "source": [
    "# Test the satisfy function\n",
    "# (x1 OR x2),(x2 OR -x5),(-x3 OR -x4),(x2 OR -x6),(-x3 OR -x5),(x3 OR -x4),(-x4 OR x5),(x3 OR -x0),(x4 OR x0)\n",
    "formula1 = [[1, 2], [2, -5], [-3, -4], [2, -6], [-3, -5], [3, -4], [-4, 5], [3, -7], [4, 7]]\n",
    "\n",
    "boolean1 = [-1, -1, -1, -1, -1, -1, -1]\n",
    "print(\"Test1:\")\n",
    "print(\"Output:\", satisfy(8, formula1, boolean1, 7), \"\\n\")\n",
    "\n",
    "boolean2 = [-1, 1, -1, -1, -1, -1, -1]\n",
    "print(\"Test2:\")\n",
    "print(\"Output:\", satisfy(8, formula1, boolean2, 7))"
   ]
  },
  {
   "cell_type": "code",
   "execution_count": 4,
   "metadata": {},
   "outputs": [
    {
     "name": "stdout",
     "output_type": "stream",
     "text": [
      "Max2SAT Test1:\n",
      "The satisfied clauses are:  [[1, 2], [2, -5], [-3, -4], [2, -6], [-3, -5], [3, -4], [-4, 5], [3, -7]]\n",
      "There exists a Z: [-1, -1, 1, -1, -1, -1, -1] that satifies 8 out of 9 clauses\n",
      "Output: 1\n"
     ]
    }
   ],
   "source": [
    "# Test the Max2SAT function\n",
    "# (x1 OR x2),(x2 OR -x5),(-x3 OR -x4),(x2 OR -x6),(-x3 OR -x5),(x3 OR -x4),(-x4 OR x5),(x3 OR -x0),(x4 OR x0)\n",
    "formula1 = [[1, 2], [2, -5], [-3, -4], [2, -6], [-3, -5], [3, -4], [-4, 5], [3, -7], [4, 7]]\n",
    "\n",
    "print(\"Max2SAT Test1:\")\n",
    "print(\"Output:\", Max2SAT(8, formula1, 7))"
   ]
  },
  {
   "cell_type": "code",
   "execution_count": 5,
   "metadata": {},
   "outputs": [
    {
     "name": "stdout",
     "output_type": "stream",
     "text": [
      "Max2SAT Test2:\n",
      "The satisfied clauses are:  [[1, 2], [2, -5], [-3, -4], [2, -6], [-3, -5], [3, -4], [-4, 5], [3, -7], [4, 7]]\n",
      "There exists a Z: [1, -1, 1, 1, -1, -1, -1] that satifies 9 out of 9 clauses\n",
      "Output: 1\n"
     ]
    }
   ],
   "source": [
    "print(\"Max2SAT Test2:\")\n",
    "print(\"Output:\", Max2SAT(9, formula1, 7))"
   ]
  },
  {
   "cell_type": "code",
   "execution_count": 6,
   "metadata": {},
   "outputs": [
    {
     "name": "stdout",
     "output_type": "stream",
     "text": [
      "Max2SAT Test3:\n",
      "The satisfied clauses are:  [[-1, -4], [-1, -2], [3, 4]]\n",
      "There exists a Z: [-1, -1, -1, -1, 1] that satifies 3 out of 5 clauses\n",
      "Output: 1\n"
     ]
    }
   ],
   "source": [
    "# (x1 OR x1),(x2 OR x2),(-x1 OR -x2),(x3 OR x4),(x0 OR x2)\n",
    "formula2 = [[1, 3], [-1, -4], [-1, -2], [3, 4], [5, 2]]\n",
    "\n",
    "print(\"Max2SAT Test3:\")\n",
    "print(\"Output:\", Max2SAT(3, formula2, 5))"
   ]
  },
  {
   "cell_type": "code",
   "execution_count": 7,
   "metadata": {},
   "outputs": [
    {
     "name": "stdout",
     "output_type": "stream",
     "text": [
      "Max2SAT Test4:\n",
      "Output: 0\n"
     ]
    }
   ],
   "source": [
    "formula3 = [[1, 1],[2, 2],[-1, -2],[3, 4]]\n",
    "\n",
    "print(\"Max2SAT Test4:\")\n",
    "print(\"Output:\", Max2SAT(4, formula3, 5))"
   ]
  },
  {
   "cell_type": "code",
   "execution_count": null,
   "metadata": {},
   "outputs": [],
   "source": []
  }
 ],
 "metadata": {
  "kernelspec": {
   "display_name": "Python 3",
   "language": "python",
   "name": "python3"
  },
  "language_info": {
   "codemirror_mode": {
    "name": "ipython",
    "version": 3
   },
   "file_extension": ".py",
   "mimetype": "text/x-python",
   "name": "python",
   "nbconvert_exporter": "python",
   "pygments_lexer": "ipython3",
   "version": "3.8.5"
  }
 },
 "nbformat": 4,
 "nbformat_minor": 4
}
