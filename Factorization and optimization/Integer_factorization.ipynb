{
 "cells": [
  {
   "cell_type": "code",
   "execution_count": 1,
   "metadata": {},
   "outputs": [],
   "source": [
    "def IntegerFactorization(N):\n",
    "    #Check if N is greater than or equal to 2 and is an integer.\n",
    "    #If not, return an error message\n",
    "    if(N < 2):\n",
    "        return \"N must be greater than or equal to 2.\"\n",
    "    elif (type(N) != int):\n",
    "        return \"N must be an integer.\"\n",
    "    \n",
    "    factors = []\n",
    "    num = 2\n",
    "    \n",
    "    #Divide N by num to find the factors\n",
    "    while(num <= N):\n",
    "        #If num is not a factor of N\n",
    "        #add num by 1 and continue checking if it is a factor of N\n",
    "        if(N % num == 1):\n",
    "            num += 1\n",
    "            \n",
    "        #If num is a factor of N\n",
    "        #add it to the factors list and continue finding the factors of N // num\n",
    "        else:\n",
    "            factors.append(num)\n",
    "            N = N // num\n",
    "            \n",
    "    return factors"
   ]
  },
  {
   "cell_type": "code",
   "execution_count": 2,
   "metadata": {},
   "outputs": [
    {
     "name": "stdout",
     "output_type": "stream",
     "text": [
      "A prime factorization of 93 is: [3, 31]\n",
      "A prime factorization of 1 is: N must be greater than or equal to 2.\n",
      "A prime factorization of 2 is: [2]\n",
      "A prime factorization of 2024 is: [2, 2, 2, 11, 23]\n",
      "A prime factorization of -2 is: N must be greater than or equal to 2.\n",
      "A prime factorization of 99.5 is: N must be an integer.\n"
     ]
    }
   ],
   "source": [
    "# Test Cases\n",
    "print(\"A prime factorization of 93 is:\", IntegerFactorization(93))\n",
    "print(\"A prime factorization of 1 is:\", IntegerFactorization(1))\n",
    "print(\"A prime factorization of 2 is:\", IntegerFactorization(2))\n",
    "print(\"A prime factorization of 2024 is:\", IntegerFactorization(2024))\n",
    "print(\"A prime factorization of -2 is:\", IntegerFactorization(-2))\n",
    "print(\"A prime factorization of 99.5 is:\", IntegerFactorization(99.5))"
   ]
  },
  {
   "cell_type": "code",
   "execution_count": null,
   "metadata": {},
   "outputs": [],
   "source": []
  }
 ],
 "metadata": {
  "kernelspec": {
   "display_name": "Python 3",
   "language": "python",
   "name": "python3"
  },
  "language_info": {
   "codemirror_mode": {
    "name": "ipython",
    "version": 3
   },
   "file_extension": ".py",
   "mimetype": "text/x-python",
   "name": "python",
   "nbconvert_exporter": "python",
   "pygments_lexer": "ipython3",
   "version": "3.8.5"
  }
 },
 "nbformat": 4,
 "nbformat_minor": 4
}
